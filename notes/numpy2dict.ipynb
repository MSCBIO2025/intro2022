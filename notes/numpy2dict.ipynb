{
 "cells": [
  {
   "cell_type": "markdown",
   "metadata": {
    "slideshow": {
     "slide_type": "slide"
    }
   },
   "source": [
    "# dictionaries, sets, and function fitting\n",
    "## 9/20/2022\n",
    "\n",
    "<a href=\"?print-pdf\">print view</a>"
   ]
  },
  {
   "cell_type": "code",
   "execution_count": null,
   "metadata": {
    "slideshow": {
     "slide_type": "skip"
    }
   },
   "outputs": [],
   "source": [
    "%%html\n",
    "\n",
    "<script src=\"http://bits.csb.pitt.edu/asker.js/lib/asker.js\"></script>\n",
    "\n",
    "<script>\n",
    "\n",
    "require(['https://cdnjs.cloudflare.com/ajax/libs/Chart.js/2.2.2/Chart.js'], function(Ch){\n",
    " Chart = Ch;\n",
    "});\n",
    "\n",
    "$('head').append('<link rel=\"stylesheet\" href=\"http://bits.csb.pitt.edu/asker.js/themes/asker.default.css\" />');\n",
    "\n",
    "\n",
    "//the callback is provided a canvas object and data \n",
    "var chartmaker = function(canvas, labels, data) {\n",
    "  var ctx = $(canvas).get(0).getContext(\"2d\");\n",
    "     var dataset = {labels: labels,                     \n",
    "    datasets:[{\n",
    "     data: data,\n",
    "     backgroundColor: \"rgba(150,64,150,0.5)\",\n",
    "         fillColor: \"rgba(150,64,150,0.8)\",    \n",
    "  }]};\n",
    "  var myBarChart = new Chart(ctx,{type:'bar',data:dataset,options:{legend: {display:false},scales:{yAxes:[{ticks:{min: 0}}]}}});\n",
    "\n",
    "\n",
    "};\n",
    "\n",
    "$(\".jp-InputArea .o:contains(html)\").closest('.jp-InputArea').hide();\n",
    "\n",
    "\n",
    "\n",
    "</script>"
   ]
  },
  {
   "cell_type": "markdown",
   "metadata": {
    "slideshow": {
     "slide_type": "slide"
    }
   },
   "source": [
    "# Dictionary"
   ]
  },
  {
   "cell_type": "markdown",
   "metadata": {},
   "source": [
    "A dictionary is an **unordered** collection of key,value pairs where the keys are mapped to values.  \n",
    "\n",
    "A dictionary object is *indexed* by the key to get the value."
   ]
  },
  {
   "cell_type": "code",
   "execution_count": null,
   "metadata": {},
   "outputs": [],
   "source": [
    "d = dict()\n",
    "d['key'] = 'value'\n",
    "d[0] = ['x','y','z']\n",
    "print(d)"
   ]
  },
  {
   "cell_type": "markdown",
   "metadata": {
    "slideshow": {
     "slide_type": "slide"
    }
   },
   "source": [
    "# Initializing `dicts`"
   ]
  },
  {
   "cell_type": "code",
   "execution_count": null,
   "metadata": {},
   "outputs": [],
   "source": [
    "empty = dict()\n",
    "alsoempty = {}"
   ]
  },
  {
   "cell_type": "markdown",
   "metadata": {},
   "source": [
    "Specify *key*:*value* pairs within curly braces."
   ]
  },
  {
   "cell_type": "code",
   "execution_count": null,
   "metadata": {},
   "outputs": [],
   "source": [
    "example = {'a': 1, 'b':2}\n",
    "example"
   ]
  },
  {
   "cell_type": "markdown",
   "metadata": {},
   "source": [
    "Add new values by indexing with new/existing key"
   ]
  },
  {
   "cell_type": "code",
   "execution_count": null,
   "metadata": {},
   "outputs": [],
   "source": [
    "example['a'] = 0\n",
    "example['z'] = 26\n",
    "example"
   ]
  },
  {
   "cell_type": "markdown",
   "metadata": {
    "slideshow": {
     "slide_type": "slide"
    }
   },
   "source": [
    "# Accessing values"
   ]
  },
  {
   "cell_type": "code",
   "execution_count": null,
   "metadata": {},
   "outputs": [],
   "source": [
    "#example['c'] #keys must exist"
   ]
  },
  {
   "cell_type": "markdown",
   "metadata": {},
   "source": [
    "Use **`in`** to test for membership"
   ]
  },
  {
   "cell_type": "code",
   "execution_count": null,
   "metadata": {},
   "outputs": [],
   "source": [
    "'c' in example "
   ]
  },
  {
   "cell_type": "code",
   "execution_count": null,
   "metadata": {},
   "outputs": [],
   "source": [
    "if 'c' not in example:\n",
    "    example['c'] = 0\n",
    "example"
   ]
  },
  {
   "cell_type": "markdown",
   "metadata": {
    "slideshow": {
     "slide_type": "slide"
    }
   },
   "source": [
    "# Methods"
   ]
  },
  {
   "cell_type": "code",
   "execution_count": null,
   "metadata": {},
   "outputs": [],
   "source": [
    "example.keys()"
   ]
  },
  {
   "cell_type": "code",
   "execution_count": null,
   "metadata": {},
   "outputs": [],
   "source": [
    "example.values()"
   ]
  },
  {
   "cell_type": "code",
   "execution_count": null,
   "metadata": {},
   "outputs": [],
   "source": [
    "example.items()"
   ]
  },
  {
   "cell_type": "code",
   "execution_count": null,
   "metadata": {
    "slideshow": {
     "slide_type": "slide"
    }
   },
   "outputs": [],
   "source": [
    "def count(vals):\n",
    "    cnts = {}\n",
    "    for x in vals:\n",
    "        cnts[x] += 1\n",
    "    return cnts"
   ]
  },
  {
   "cell_type": "code",
   "execution_count": null,
   "metadata": {
    "slideshow": {
     "slide_type": "-"
    }
   },
   "outputs": [],
   "source": [
    "#d = count(['a','a','b','a','c','b'])"
   ]
  },
  {
   "cell_type": "code",
   "execution_count": null,
   "metadata": {},
   "outputs": [],
   "source": [
    "%%html\n",
    "<div id=\"dictdefault\" style=\"width: 500px\"></div>\n",
    "<script>\n",
    "$('head').append('<link rel=\"stylesheet\" href=\"http://bits.csb.pitt.edu/asker.js/themes/asker.default.css\" />');\n",
    "\n",
    "    var divid = '#dictdefault';\n",
    "\tjQuery(divid).asker({\n",
    "\t    id: divid,\n",
    "\t    question: \"What is the value of <tt>d['a']</tt>?\",\n",
    "\t\tanswers: [\"0\",\"1\",\"2\",\"3\",\"6\",'Error'],\n",
    "        server: \"http://bits.csb.pitt.edu/asker.js/example/asker.cgi\",\n",
    "\t\tcharter: chartmaker})\n",
    "    \n",
    "$(\".jp-InputArea .o:contains(html)\").closest('.jp-InputArea').hide();\n",
    "\n",
    "\n",
    "</script>"
   ]
  },
  {
   "cell_type": "markdown",
   "metadata": {
    "slideshow": {
     "slide_type": "slide"
    }
   },
   "source": [
    "# The Fix"
   ]
  },
  {
   "cell_type": "code",
   "execution_count": null,
   "metadata": {},
   "outputs": [],
   "source": [
    "def count(vals):\n",
    "    cnts = {}\n",
    "    for x in vals:\n",
    "        if x not in cnts:\n",
    "            cnts[x] = 0\n",
    "        cnts[x] += 1\n",
    "    return cnts\n",
    "\n",
    "d = count(['a','a','b','a','c','b'])\n",
    "d['a']"
   ]
  },
  {
   "cell_type": "markdown",
   "metadata": {},
   "source": [
    "If this seems annoying, checkout [`collections.defaultdict`](https://docs.python.org/2/library/collections.html)"
   ]
  },
  {
   "cell_type": "markdown",
   "metadata": {
    "slideshow": {
     "slide_type": "slide"
    }
   },
   "source": [
    "# Sets"
   ]
  },
  {
   "cell_type": "markdown",
   "metadata": {},
   "source": [
    " A set is an **unordered** collection with no duplicate elements. Basic uses include *membership testing* and *eliminating duplicate entries*. Set objects also support mathematical operations like union, intersection, difference, and symmetric difference."
   ]
  },
  {
   "cell_type": "markdown",
   "metadata": {},
   "source": [
    "Can initialize with a list"
   ]
  },
  {
   "cell_type": "code",
   "execution_count": null,
   "metadata": {},
   "outputs": [],
   "source": [
    "stuff = set(['a','b','a','d','x','a','e'])\n",
    "stuff"
   ]
  },
  {
   "cell_type": "markdown",
   "metadata": {},
   "source": [
    "Sets are not indexed - use `add` to insert new elements."
   ]
  },
  {
   "cell_type": "code",
   "execution_count": null,
   "metadata": {},
   "outputs": [],
   "source": [
    "stuff.add('y')"
   ]
  },
  {
   "cell_type": "markdown",
   "metadata": {
    "slideshow": {
     "slide_type": "slide"
    }
   },
   "source": [
    "# `set` operations"
   ]
  },
  {
   "cell_type": "markdown",
   "metadata": {},
   "source": [
    "Efficient membership testing"
   ]
  },
  {
   "cell_type": "code",
   "execution_count": null,
   "metadata": {},
   "outputs": [],
   "source": [
    "'y' in stuff"
   ]
  },
  {
   "cell_type": "code",
   "execution_count": null,
   "metadata": {},
   "outputs": [],
   "source": [
    "stuff2 = set(['a','b','c'])\n",
    "print('and',stuff & stuff2) #intersection"
   ]
  },
  {
   "cell_type": "code",
   "execution_count": null,
   "metadata": {},
   "outputs": [],
   "source": [
    "print('or', stuff | stuff2)"
   ]
  },
  {
   "cell_type": "code",
   "execution_count": null,
   "metadata": {},
   "outputs": [],
   "source": [
    "print('diff', stuff - stuff2)"
   ]
  },
  {
   "cell_type": "code",
   "execution_count": null,
   "metadata": {
    "slideshow": {
     "slide_type": "slide"
    }
   },
   "outputs": [],
   "source": [
    "s = set([1,2,2,3,3,3,4,4,4,4])"
   ]
  },
  {
   "cell_type": "code",
   "execution_count": null,
   "metadata": {},
   "outputs": [],
   "source": [
    "%%html\n",
    "<div id=\"dictset\" style=\"width: 500px\"></div>\n",
    "<script>\n",
    "$('head').append('<link rel=\"stylesheet\" href=\"http://bits.csb.pitt.edu/asker.js/themes/asker.default.css\" />');\n",
    "\n",
    "    var divid = '#dictset';\n",
    "\tjQuery(divid).asker({\n",
    "\t    id: divid,\n",
    "\t    question: \"What is <tt>len(s)</tt>?\",\n",
    "\t\tanswers: [\"0\",\"1\",\"3\",\"4\",\"9\",\"10\",'Error'],\n",
    "        server: \"http://bits.csb.pitt.edu/asker.js/example/asker.cgi\",\n",
    "\t\tcharter: chartmaker})\n",
    "    \n",
    "$(\".jp-InputArea .o:contains(html)\").closest('.jp-InputArea').hide();\n",
    "\n",
    "\n",
    "</script>"
   ]
  },
  {
   "cell_type": "code",
   "execution_count": null,
   "metadata": {
    "slideshow": {
     "slide_type": "slide"
    }
   },
   "outputs": [],
   "source": [
    "a = set([1,2,2,3])\n",
    "b = set([2,3,3,4])\n",
    "c = a & b"
   ]
  },
  {
   "cell_type": "code",
   "execution_count": null,
   "metadata": {},
   "outputs": [],
   "source": [
    "%%html\n",
    "<div id=\"setinter\" style=\"width: 500px\"></div>\n",
    "<script>\n",
    "$('head').append('<link rel=\"stylesheet\" href=\"http://bits.csb.pitt.edu/asker.js/themes/asker.default.css\" />');\n",
    "\n",
    "    var divid = '#setinter';\n",
    "\tjQuery(divid).asker({\n",
    "\t    id: divid,\n",
    "\t    question: \"What is <tt>c</tt>?\",\n",
    "\t\tanswers: [\"{1,2,3,4}\",\"{2,2,3,3}\",\"{2,3}\",\"{1,4}\",'Error'],\n",
    "        server: \"http://bits.csb.pitt.edu/asker.js/example/asker.cgi\",\n",
    "\t\tcharter: chartmaker})\n",
    "    \n",
    "$(\".jp-InputArea .o:contains(html)\").closest('.jp-InputArea').hide();\n",
    "\n",
    "\n",
    "</script>"
   ]
  },
  {
   "cell_type": "markdown",
   "metadata": {
    "slideshow": {
     "slide_type": "slide"
    }
   },
   "source": [
    "# Tuples\n",
    "\n",
    "A `tuple` is an *immutable* list."
   ]
  },
  {
   "cell_type": "code",
   "execution_count": null,
   "metadata": {},
   "outputs": [],
   "source": [
    "t = tuple([1,2,3])\n",
    "t"
   ]
  },
  {
   "cell_type": "markdown",
   "metadata": {},
   "source": [
    "Tuples are initialized the same way as lists, just with parentheses"
   ]
  },
  {
   "cell_type": "code",
   "execution_count": null,
   "metadata": {},
   "outputs": [],
   "source": [
    "t = ('x',0,3.0)\n",
    "l = ['x',0,3.0]\n",
    "t,l"
   ]
  },
  {
   "cell_type": "code",
   "execution_count": null,
   "metadata": {},
   "outputs": [],
   "source": [
    "'%s %d' % ('hello',3) # second operand of string % operator is tuple"
   ]
  },
  {
   "cell_type": "code",
   "execution_count": null,
   "metadata": {
    "slideshow": {
     "slide_type": "slide"
    }
   },
   "outputs": [],
   "source": [
    "t = ('x',0,3.0)\n",
    "#t[2] += 1"
   ]
  },
  {
   "cell_type": "code",
   "execution_count": null,
   "metadata": {},
   "outputs": [],
   "source": [
    "%%html\n",
    "<div id=\"dictimm\" style=\"width: 500px\"></div>\n",
    "<script>\n",
    "$('head').append('<link rel=\"stylesheet\" href=\"http://bits.csb.pitt.edu/asker.js/themes/asker.default.css\" />');\n",
    "\n",
    "    var divid = '#dictimm';\n",
    "\tjQuery(divid).asker({\n",
    "\t    id: divid,\n",
    "\t    question: \"What is the value of <tt>t[2]</tt>?\",\n",
    "\t\tanswers: [\"0\",\"1\",\"3.0\",\"4.0\",'Error'],\n",
    "        server: \"http://bits.csb.pitt.edu/asker.js/example/asker.cgi\",\n",
    "\t\tcharter: chartmaker})\n",
    "    \n",
    "$(\".jp-InputArea .o:contains(html)\").closest('.jp-InputArea').hide();\n",
    "\n",
    "\n",
    "</script>"
   ]
  },
  {
   "cell_type": "markdown",
   "metadata": {
    "slideshow": {
     "slide_type": "slide"
    }
   },
   "source": [
    "# Keys"
   ]
  },
  {
   "cell_type": "markdown",
   "metadata": {},
   "source": [
    "The keys of a dictionary or set should be *immutable*. Examples of immutable types are numbers, strings, tuples (that contain only immutable objects) and frozensets."
   ]
  },
  {
   "cell_type": "code",
   "execution_count": null,
   "metadata": {},
   "outputs": [],
   "source": [
    "example[(1,2)] = 'a'"
   ]
  },
  {
   "cell_type": "code",
   "execution_count": null,
   "metadata": {},
   "outputs": [],
   "source": [
    "#example[[1,2]] = 'a'"
   ]
  },
  {
   "cell_type": "markdown",
   "metadata": {},
   "source": [
    "Dictionaries and sets efficiently store data based on the properties of the key - if the properties of the key can change, then the data structure is broken and the data is not where it should be."
   ]
  },
  {
   "cell_type": "markdown",
   "metadata": {
    "slideshow": {
     "slide_type": "slide"
    }
   },
   "source": [
    "# Efficiency"
   ]
  },
  {
   "cell_type": "markdown",
   "metadata": {},
   "source": [
    "Imagine we have two lists, `l1` and `l2`, and we want do something with the items that are in common in both lists.  Here we'll just count them."
   ]
  },
  {
   "cell_type": "code",
   "execution_count": null,
   "metadata": {},
   "outputs": [],
   "source": [
    "def listcnt(l1, l2):\n",
    "    cnt = 0\n",
    "    for x in l1:\n",
    "            if x in l2:\n",
    "                cnt += 1\n",
    "    return cnt  "
   ]
  },
  {
   "cell_type": "code",
   "execution_count": null,
   "metadata": {},
   "outputs": [],
   "source": [
    "def setcnt(l1, l2):\n",
    "    cnt = 0\n",
    "    s1 = set(l1)\n",
    "    s2 = set(l2)\n",
    "    for x in s1:\n",
    "            if x in s2:\n",
    "                cnt += 1\n",
    "    return cnt      "
   ]
  },
  {
   "cell_type": "markdown",
   "metadata": {},
   "source": [
    "These two functions generate the same answer *if the lists have all distinct elements*."
   ]
  },
  {
   "cell_type": "code",
   "execution_count": null,
   "metadata": {
    "slideshow": {
     "slide_type": "slide"
    }
   },
   "outputs": [],
   "source": [
    "%%html\n",
    "<div id=\"dictspeed\" style=\"width: 500px\"></div>\n",
    "<script>\n",
    "$('head').append('<link rel=\"stylesheet\" href=\"http://bits.csb.pitt.edu/asker.js/themes/asker.default.css\" />');\n",
    "\n",
    "    var divid = '#dictspeed';\n",
    "\tjQuery(divid).asker({\n",
    "\t    id: divid,\n",
    "\t    question: \"Which function is faster?\",\n",
    "\t\tanswers: ['listcnt, by a lot','listcnt, by a little','about the same','setcnt, by a little','setcnt, by a lot'],\n",
    "        server: \"http://bits.csb.pitt.edu/asker.js/example/asker.cgi\",\n",
    "\t\tcharter: chartmaker})\n",
    "    \n",
    "$(\".jp-InputArea .o:contains(html)\").closest('.jp-InputArea').hide();\n",
    "\n",
    "\n",
    "</script>"
   ]
  },
  {
   "cell_type": "code",
   "execution_count": null,
   "metadata": {
    "slideshow": {
     "slide_type": "slide"
    }
   },
   "outputs": [],
   "source": [
    "import time\n",
    "l1 = list(range(40000))\n",
    "l2 = list(range(1000,10000))\n",
    "\n",
    "t0 = time.time()\n",
    "listcnt(l1,l2)\n",
    "t1 = time.time()\n",
    "setcnt(l1,l2)\n",
    "t2 = time.time()\n",
    "print(\"listcnt time: \",t1-t0,'\\nsetcnt time:',t2-t1)"
   ]
  },
  {
   "cell_type": "markdown",
   "metadata": {},
   "source": [
    "Can you think of another way?"
   ]
  },
  {
   "cell_type": "code",
   "execution_count": null,
   "metadata": {
    "slideshow": {
     "slide_type": "fragment"
    }
   },
   "outputs": [],
   "source": [
    "t0 = time.time()\n",
    "len(set(l1) & set(l2))\n",
    "t3 = time.time()\n",
    "print(\"set intersection time:\",t3-t0)"
   ]
  },
  {
   "cell_type": "markdown",
   "metadata": {
    "slideshow": {
     "slide_type": "slide"
    }
   },
   "source": [
    "# Do not do membership testing on lists"
   ]
  },
  {
   "cell_type": "markdown",
   "metadata": {
    "slideshow": {
     "slide_type": "fragment"
    }
   },
   "source": [
    "* Lists are *ordered* by the programmer, which means Python must examine *every* element to determine (non)membership.\n",
    "* Dictionaries and sets are *unordered* so Python can store the contents in a way that makes membership testing efficient (using <a href=\"https://en.wikipedia.org/wiki/Hash_function\">hashing</a>)"
   ]
  },
  {
   "cell_type": "markdown",
   "metadata": {
    "slideshow": {
     "slide_type": "slide"
    }
   },
   "source": [
    "# Hashing \n",
    "\n",
    "The keys of sets and dictionaries must be *hashable* types.  Technically, this means they define methods `__eq__` (or `__cmp__`) and  `__hash__`.\n",
    "\n",
    "A hash function (`__hash__`) takes an arbitrary object and produces a number.  Objects that are identical (according to `__eq__` or `__cmp__`) must hash to the same hash value. \n",
    "\n",
    "### What does this get us?\n",
    "\n",
    "Accessing an element of an array of elements in memory (random access...) is as simple as computing a memory address (base of array plus offset).  This is **great** if our keys are a dense array of integers (then we have a lookup table).\n",
    "\n",
    "Hash functions provide a way to quickly index into an array of data even when are keys are arbitray objects.\n",
    "\n"
   ]
  },
  {
   "cell_type": "markdown",
   "metadata": {
    "slideshow": {
     "slide_type": "slide"
    }
   },
   "source": [
    "# Hashing\n",
    "\n",
    "<center><img  src='http://upload.wikimedia.org/wikipedia/commons/thumb/d/d0/Hash_table_5_0_1_1_1_1_1_LL.svg/450px-Hash_table_5_0_1_1_1_1_1_LL.svg.png'></center>\n",
    "\n",
    "In this figure (from Wikipedia), *collisions* are resolved through chaining.<br>\n",
    "With a good hash function and enough buckets, no chain (list) will be more than a few elements long and accessing our data will be constant time (on average).\n",
    "The position of an element in the table is determined by its hash value and the *table size*. \n",
    "\n",
    "   `position = obj.__hash__() % table_size`\n",
    "\n"
   ]
  },
  {
   "cell_type": "markdown",
   "metadata": {
    "slideshow": {
     "slide_type": "slide"
    }
   },
   "source": [
    "# Hash Functions\n",
    "\n",
    "A good hash function of an object has the following properties:\n",
    "\n",
    "*  The hash value is fully determined by the object (*deterministic*).\n",
    "*  The hash function uses all the object's data (if relevant). \n",
    "*  The hash function is *uniform* (evenly distributes keys across the range) \n",
    "\n",
    "The *range* of the hash function is usual the integers ($2^{32}$ or $2^{64}$).\n"
   ]
  },
  {
   "cell_type": "code",
   "execution_count": null,
   "metadata": {},
   "outputs": [],
   "source": [
    "print(hash(3), hash(1435080909832), hash('cat'), hash((3,'cat')))"
   ]
  },
  {
   "cell_type": "markdown",
   "metadata": {
    "slideshow": {
     "slide_type": "slide"
    }
   },
   "source": [
    "# Implementing a Hash Function\n",
    "\n",
    "You only need to implement a hash function when defining your own object types (which we haven't talked about yet...)\n",
    "\n",
    "The best (and easiest) approach is to combine the built-in hash functions on your data.  "
   ]
  },
  {
   "cell_type": "code",
   "execution_count": null,
   "metadata": {},
   "outputs": [],
   "source": [
    "a = 'cat'\n",
    "b = 'dog'\n",
    "print(hash(a))\n",
    "print(hash(b))\n",
    "print(hash( (a,b) ))"
   ]
  },
  {
   "cell_type": "markdown",
   "metadata": {
    "slideshow": {
     "slide_type": "slide"
    }
   },
   "source": [
    "# Takeaway\n",
    "\n",
    "`sets`, `frozensets`, and `dicts` use hashing to provide extremely efficient **membership testing** and (for `dicts`) **value lookup**. \n",
    "\n",
    "However, you **cannot** rely on the order of data in these data structures.  In fact, the order of items will change as you add and delete."
   ]
  },
  {
   "cell_type": "code",
   "execution_count": null,
   "metadata": {
    "slideshow": {
     "slide_type": "slide"
    }
   },
   "outputs": [],
   "source": [
    "s = set([3,999])\n",
    "s"
   ]
  },
  {
   "cell_type": "code",
   "execution_count": null,
   "metadata": {},
   "outputs": [],
   "source": [
    "s.add(1000)"
   ]
  },
  {
   "cell_type": "code",
   "execution_count": null,
   "metadata": {
    "slideshow": {
     "slide_type": "fragment"
    }
   },
   "outputs": [],
   "source": [
    "print(s)\n",
    "s.update([1001,1002,1003])"
   ]
  },
  {
   "cell_type": "code",
   "execution_count": null,
   "metadata": {
    "slideshow": {
     "slide_type": "fragment"
    }
   },
   "outputs": [],
   "source": [
    "print(s)"
   ]
  },
  {
   "cell_type": "markdown",
   "metadata": {
    "slideshow": {
     "slide_type": "slide"
    }
   },
   "source": [
    "# Function fitting\n",
    "\n",
    "`numpy.polyfit` - polynomial fitting\n",
    "\n",
    "`scipy.optimize.curve_fit` - arbitrary functions"
   ]
  },
  {
   "cell_type": "markdown",
   "metadata": {
    "slideshow": {
     "slide_type": "slide"
    }
   },
   "source": [
    "# polyfit\n",
    "\n",
    "Takes $x$ values, $y$ values, and degree of polynomial.  Returns coefficients with least squares fit (highest degree first)."
   ]
  },
  {
   "cell_type": "code",
   "execution_count": null,
   "metadata": {},
   "outputs": [],
   "source": [
    "%%html\n",
    "<div id=\"polydeg\" style=\"width: 500px\"></div>\n",
    "<script>\n",
    "$('head').append('<link rel=\"stylesheet\" href=\"http://bits.csb.pitt.edu/asker.js/themes/asker.default.css\" />');\n",
    "\n",
    "    var divid = '#polydeg';\n",
    "\tjQuery(divid).asker({\n",
    "\t    id: divid,\n",
    "\t    question: \"What degree is the polynomial 4x^2 + 5x - 3?\",\n",
    "\t\tanswers: ['1','2','3','4','5'],\n",
    "        server: \"http://bits.csb.pitt.edu/asker.js/example/asker.cgi\",\n",
    "\t\tcharter: chartmaker})\n",
    "    \n",
    "$(\".jp-InputArea .o:contains(html)\").closest('.jp-InputArea').hide();\n",
    "\n",
    "\n",
    "</script>"
   ]
  },
  {
   "cell_type": "code",
   "execution_count": null,
   "metadata": {
    "slideshow": {
     "slide_type": "slide"
    }
   },
   "outputs": [],
   "source": [
    "import numpy as np\n",
    "xvals = np.linspace(-1,2,20) \n",
    "yvals = xvals**3 +np.random.random(20) #adds random numbers from 0 to 1 to 20 values of xvals"
   ]
  },
  {
   "cell_type": "code",
   "execution_count": null,
   "metadata": {},
   "outputs": [],
   "source": [
    "import matplotlib.pyplot as plt\n",
    "%matplotlib inline\n",
    "plt.plot(xvals,yvals,'o');"
   ]
  },
  {
   "cell_type": "markdown",
   "metadata": {
    "slideshow": {
     "slide_type": "slide"
    }
   },
   "source": [
    "# polyfit"
   ]
  },
  {
   "cell_type": "code",
   "execution_count": null,
   "metadata": {},
   "outputs": [],
   "source": [
    "deg1 = np.polyfit(xvals,yvals,1)\n",
    "deg2 = np.polyfit(xvals,yvals,2)\n",
    "deg3 = np.polyfit(xvals,yvals,3)"
   ]
  },
  {
   "cell_type": "code",
   "execution_count": null,
   "metadata": {},
   "outputs": [],
   "source": [
    "deg1"
   ]
  },
  {
   "cell_type": "code",
   "execution_count": null,
   "metadata": {},
   "outputs": [],
   "source": [
    "deg2"
   ]
  },
  {
   "cell_type": "code",
   "execution_count": null,
   "metadata": {
    "slideshow": {
     "slide_type": "slide"
    }
   },
   "outputs": [],
   "source": [
    "%%html\n",
    "<div id=\"deg3\" style=\"width: 500px\"></div>\n",
    "<script>\n",
    "$('head').append('<link rel=\"stylesheet\" href=\"http://bits.csb.pitt.edu/asker.js/themes/asker.default.css\" />');\n",
    "\n",
    "    var divid = '#deg3';\n",
    "\tjQuery(divid).asker({\n",
    "\t    id: divid,\n",
    "\t    question: \"What is the expected value of deg3[-1]?\",\n",
    "\t\tanswers: ['-1','0','0.5','1'],\n",
    "        server: \"http://bits.csb.pitt.edu/asker.js/example/asker.cgi\",\n",
    "\t\tcharter: chartmaker})\n",
    "    \n",
    "$(\".jp-InputArea .o:contains(html)\").closest('.jp-InputArea').hide();\n",
    "\n",
    "\n",
    "</script>"
   ]
  },
  {
   "cell_type": "code",
   "execution_count": null,
   "metadata": {
    "slideshow": {
     "slide_type": "slide"
    }
   },
   "outputs": [],
   "source": [
    "%%html\n",
    "<div id=\"deg3_2\" style=\"width: 500px\"></div>\n",
    "<script>\n",
    "$('head').append('<link rel=\"stylesheet\" href=\"http://bits.csb.pitt.edu/asker.js/themes/asker.default.css\" />');\n",
    "\n",
    "    var divid = '#deg3_2';\n",
    "\tjQuery(divid).asker({\n",
    "\t    id: divid,\n",
    "\t    question: \"What is the expected value of deg3[0]?\",\n",
    "\t\tanswers: ['-1','0','0.5','1'],\n",
    "        server: \"http://bits.csb.pitt.edu/asker.js/example/asker.cgi\",\n",
    "\t\tcharter: chartmaker})\n",
    "    \n",
    "$(\".jp-InputArea .o:contains(html)\").closest('.jp-InputArea').hide();\n",
    "\n",
    "\n",
    "</script>"
   ]
  },
  {
   "cell_type": "code",
   "execution_count": null,
   "metadata": {
    "slideshow": {
     "slide_type": "slide"
    }
   },
   "outputs": [],
   "source": [
    "deg3"
   ]
  },
  {
   "cell_type": "code",
   "execution_count": null,
   "metadata": {},
   "outputs": [],
   "source": [
    "deg3[-1]"
   ]
  },
  {
   "cell_type": "markdown",
   "metadata": {
    "slideshow": {
     "slide_type": "slide"
    }
   },
   "source": [
    "# poly1d\n",
    "\n",
    "Construct a polynomial function from coefficients"
   ]
  },
  {
   "cell_type": "code",
   "execution_count": null,
   "metadata": {},
   "outputs": [],
   "source": [
    "p1 = np.poly1d(deg1)\n",
    "p2 = np.poly1d(deg2)\n",
    "p3 = np.poly1d(deg3)\n",
    "p1(2),p2(2),p3(2)"
   ]
  },
  {
   "cell_type": "code",
   "execution_count": null,
   "metadata": {},
   "outputs": [],
   "source": [
    "p1(0),p2(0),p3(0)"
   ]
  },
  {
   "cell_type": "code",
   "execution_count": null,
   "metadata": {
    "slideshow": {
     "slide_type": "slide"
    }
   },
   "outputs": [],
   "source": [
    "plt.plot(xvals,yvals,'o',xvals,p1(xvals),'-',xvals,p2(xvals),'-',xvals,p3(xvals),'-'); "
   ]
  },
  {
   "cell_type": "markdown",
   "metadata": {
    "slideshow": {
     "slide_type": "slide"
    }
   },
   "source": [
    "# scipy.optimize.curve_fit\n",
    "\n",
    "Optimize fit to an arbitrary function.  Returns optimal values (for least squares) of parameters along with covariance estimate.  \n",
    "\n",
    "Provide python function that takes *x* value and any parameters."
   ]
  },
  {
   "cell_type": "code",
   "execution_count": null,
   "metadata": {},
   "outputs": [],
   "source": [
    "from scipy.optimize import curve_fit\n",
    "\n",
    "def tanh(x,a,b):\n",
    "    return b*np.tanh(a+x)\n",
    "\n",
    "popt,pconv = curve_fit(tanh, xvals, yvals)\n",
    "popt"
   ]
  },
  {
   "cell_type": "code",
   "execution_count": null,
   "metadata": {
    "slideshow": {
     "slide_type": "slide"
    }
   },
   "outputs": [],
   "source": [
    "plt.plot(xvals,yvals,'o',xvals,popt[1]*np.tanh(popt[0]+xvals)); plt.show()"
   ]
  },
  {
   "cell_type": "markdown",
   "metadata": {
    "slideshow": {
     "slide_type": "slide"
    }
   },
   "source": [
    "# Let's Analyze Data!\n"
   ]
  },
  {
   "cell_type": "code",
   "execution_count": null,
   "metadata": {},
   "outputs": [],
   "source": [
    "!wget https://asinansaglam.github.io/python_bio_2022/files/kd\n",
    "!wget https://asinansaglam.github.io/python_bio_2022/files/aff.min\n",
    "!wget https://asinansaglam.github.io/python_bio_2022/files/aff.score"
   ]
  },
  {
   "cell_type": "code",
   "execution_count": null,
   "metadata": {},
   "outputs": [],
   "source": [
    "!head kd"
   ]
  },
  {
   "cell_type": "markdown",
   "metadata": {},
   "source": [
    "`kd` contains experimental values while `aff.min` and `aff.score` contain computational predictions of the experimental values.  Each line has a name and value.\n",
    "\n",
    "How good are the predictions?"
   ]
  },
  {
   "cell_type": "markdown",
   "metadata": {
    "slideshow": {
     "slide_type": "slide"
    }
   },
   "source": [
    "## How do we want to load and store the data?\n",
    "\n",
    "The rows of the provided files are **not** in the same order.\n",
    "\n",
    "We only care about points that are in **all three files**.\n",
    "\n",
    "**Hint:** use dictionary to associate names with values."
   ]
  },
  {
   "cell_type": "code",
   "execution_count": null,
   "metadata": {
    "slideshow": {
     "slide_type": "subslide"
    }
   },
   "outputs": [],
   "source": [
    "import numpy as np\n",
    "\n",
    "def makedict(fname):\n",
    "    f = open(fname)\n",
    "    retdict = {}\n",
    "    for line in f:\n",
    "        (name,value) = line.split()\n",
    "        retdict[name] = float(value)\n",
    "    return retdict\n",
    "\n",
    "kdvalues = makedict('kd')\n",
    "scorevalues = makedict('aff.score')\n",
    "minvalues = makedict('aff.min')\n",
    "\n",
    "names = []\n",
    "kdlist = []\n",
    "scorelist = []\n",
    "minlist = []\n",
    "for name in sorted(kdvalues.keys()):\n",
    "    if name in scorevalues and name in minvalues:\n",
    "        names.append(name)\n",
    "        kdlist.append(kdvalues[name])\n",
    "        scorelist.append(scorevalues[name])\n",
    "        minlist.append(minvalues[name])\n",
    "        \n",
    "kds = np.array(kdlist)\n",
    "scores = np.array(scorelist)\n",
    "mins = np.array(minlist)"
   ]
  },
  {
   "cell_type": "markdown",
   "metadata": {
    "slideshow": {
     "slide_type": "slide"
    }
   },
   "source": [
    "# How do we want to visualize the data?\n",
    "\n",
    "Plot experiment value vs. predicted values (two series, scatterplot)."
   ]
  },
  {
   "cell_type": "code",
   "execution_count": null,
   "metadata": {
    "slideshow": {
     "slide_type": "slide"
    }
   },
   "outputs": [],
   "source": [
    "%matplotlib inline\n",
    "import matplotlib.pylab as plt\n",
    "plt.plot(kds,scores,'o',alpha=0.5,label='score')\n",
    "plt.plot(kds,mins,'o',alpha=0.5,label='min')\n",
    "plt.legend(numpoints=1)\n",
    "plt.xlim(0,18)\n",
    "plt.ylim(0,18)\n",
    "plt.xlabel('Experiment')\n",
    "plt.ylabel('Prediction')\n",
    "plt.gca().set_aspect('equal')\n",
    "plt.show()"
   ]
  },
  {
   "cell_type": "markdown",
   "metadata": {
    "slideshow": {
     "slide_type": "slide"
    }
   },
   "source": [
    "# Aside: Visualizing dense 2D distributions\n",
    "\n",
    "`seaborn` - extends `matplotlib` to make some hard things easy"
   ]
  },
  {
   "cell_type": "code",
   "execution_count": null,
   "metadata": {},
   "outputs": [],
   "source": [
    "import seaborn as sns  # package that sits on top of \n",
    "sns.jointplot(kds,scores);"
   ]
  },
  {
   "cell_type": "code",
   "execution_count": null,
   "metadata": {
    "slideshow": {
     "slide_type": "slide"
    }
   },
   "outputs": [],
   "source": [
    "sns.jointplot(kds,scores,kind='hex');"
   ]
  },
  {
   "cell_type": "code",
   "execution_count": null,
   "metadata": {
    "slideshow": {
     "slide_type": "slide"
    }
   },
   "outputs": [],
   "source": [
    "sns.jointplot(kds,scores,kind='kde');"
   ]
  },
  {
   "cell_type": "markdown",
   "metadata": {
    "slideshow": {
     "slide_type": "slide"
    }
   },
   "source": [
    "# What is the error?\n",
    "\n",
    "Average absolute? Mean squared?"
   ]
  },
  {
   "cell_type": "code",
   "execution_count": null,
   "metadata": {
    "slideshow": {
     "slide_type": "slide"
    }
   },
   "outputs": [],
   "source": [
    "print(\"Scores absolute average error:\",np.mean(np.abs(scores-kds)))\n",
    "print(\"Mins absolute average error:\",np.mean(np.abs(mins-kds)))"
   ]
  },
  {
   "cell_type": "code",
   "execution_count": null,
   "metadata": {
    "slideshow": {
     "slide_type": "-"
    }
   },
   "outputs": [],
   "source": [
    "print(\"Scores Mean squared error:\",np.mean(np.square(scores-kds)))\n",
    "print(\"Mins Mean squared error:\",np.mean(np.square(mins-kds)))"
   ]
  },
  {
   "cell_type": "code",
   "execution_count": null,
   "metadata": {
    "slideshow": {
     "slide_type": "slide"
    }
   },
   "outputs": [],
   "source": [
    "plt.hist(np.square(kds-mins),25,(0,25),density=True)\n",
    "plt.show()"
   ]
  },
  {
   "cell_type": "code",
   "execution_count": null,
   "metadata": {
    "slideshow": {
     "slide_type": "-"
    }
   },
   "outputs": [],
   "source": [
    "ave = np.mean(kds)\n",
    "print(\"Average experimental value\",ave)\n",
    "print(\"Error of predicting the average\",np.mean(np.square(kds-ave)))"
   ]
  },
  {
   "cell_type": "markdown",
   "metadata": {
    "slideshow": {
     "slide_type": "slide"
    }
   },
   "source": [
    "# Do the predictions correlate with the observed values?\n",
    "\n",
    "Compute correlations: np.corrcoef, scipy.stats.pearsonr, scipy.stats.spearmanr, scipy.stats.kendalltau"
   ]
  },
  {
   "cell_type": "code",
   "execution_count": null,
   "metadata": {
    "slideshow": {
     "slide_type": "slide"
    }
   },
   "outputs": [],
   "source": [
    "np.corrcoef(kds,scores)"
   ]
  },
  {
   "cell_type": "code",
   "execution_count": null,
   "metadata": {
    "slideshow": {
     "slide_type": "-"
    }
   },
   "outputs": [],
   "source": [
    "np.corrcoef(kds,mins)"
   ]
  },
  {
   "cell_type": "code",
   "execution_count": null,
   "metadata": {
    "slideshow": {
     "slide_type": "-"
    }
   },
   "outputs": [],
   "source": [
    "import scipy.stats as stats\n",
    "stats.pearsonr(kds,scores)"
   ]
  },
  {
   "cell_type": "code",
   "execution_count": null,
   "metadata": {
    "slideshow": {
     "slide_type": "-"
    }
   },
   "outputs": [],
   "source": [
    "stats.spearmanr(kds,scores)"
   ]
  },
  {
   "cell_type": "code",
   "execution_count": null,
   "metadata": {
    "slideshow": {
     "slide_type": "-"
    }
   },
   "outputs": [],
   "source": [
    "stats.kendalltau(kds,scores)"
   ]
  },
  {
   "cell_type": "markdown",
   "metadata": {
    "slideshow": {
     "slide_type": "slide"
    }
   },
   "source": [
    "# What is the linear relationship?"
   ]
  },
  {
   "cell_type": "code",
   "execution_count": null,
   "metadata": {
    "slideshow": {
     "slide_type": "slide"
    }
   },
   "outputs": [],
   "source": [
    "fit = np.polyfit(kds,scores,1)\n",
    "fit"
   ]
  },
  {
   "cell_type": "code",
   "execution_count": null,
   "metadata": {
    "slideshow": {
     "slide_type": "-"
    }
   },
   "outputs": [],
   "source": [
    "line = np.poly1d(fit) #converts coefficients into function\n",
    "line(3)"
   ]
  },
  {
   "cell_type": "code",
   "execution_count": null,
   "metadata": {
    "slideshow": {
     "slide_type": "slide"
    }
   },
   "outputs": [],
   "source": [
    "xpoints = np.linspace(0,18,100) #make 100 xcoords\n",
    "plt.plot(kds,scores,'o',alpha=0.5,label='score')\n",
    "plt.plot(kds,mins,'o',alpha=0.5,label='min')\n",
    "plt.xlim(0,18)\n",
    "plt.ylim(0,18)\n",
    "plt.xlabel('Experiment')\n",
    "plt.ylabel('Prediction')\n",
    "plt.gca().set_aspect('equal')\n",
    "\n",
    "plt.plot(xpoints,xpoints,'k')\n",
    "plt.plot(xpoints,line(xpoints),label=\"fit\",linewidth=2)\n",
    "plt.legend(loc='lower right')\n",
    "plt.show()"
   ]
  },
  {
   "cell_type": "markdown",
   "metadata": {
    "slideshow": {
     "slide_type": "slide"
    }
   },
   "source": [
    "# What happens if we rescale the predictions?\n",
    "\n",
    "Apply the linear fit to the predicted values."
   ]
  },
  {
   "cell_type": "code",
   "execution_count": null,
   "metadata": {
    "slideshow": {
     "slide_type": "slide"
    }
   },
   "outputs": [],
   "source": [
    "f2 = np.polyfit(scores,kds,1)\n",
    "print(\"Fit:\",f2)\n",
    "fscores = scores*f2[0]+f2[1]\n",
    "print(\"Scores Mean squared error:\",np.mean(np.square(scores-kds)))\n",
    "print(\"Fit Scores Mean squared error:\",np.mean(np.square(fscores-kds)))"
   ]
  },
  {
   "cell_type": "code",
   "execution_count": null,
   "metadata": {
    "slideshow": {
     "slide_type": "slide"
    }
   },
   "outputs": [],
   "source": [
    "plt.plot(kds,scores,'o',alpha=0.5,label='score')\n",
    "plt.plot(kds,fscores,'o',alpha=0.5,label='fit')\n",
    "plt.xlim(0,18)\n",
    "plt.ylim(0,18)\n",
    "plt.xlabel('Experiment')\n",
    "plt.ylabel('Prediction')\n",
    "plt.gca().set_aspect('equal')\n",
    "\n",
    "plt.plot(xpoints,xpoints)\n",
    "plt.legend(loc='lower right')\n",
    "plt.show()"
   ]
  },
  {
   "cell_type": "code",
   "execution_count": null,
   "metadata": {
    "slideshow": {
     "slide_type": "-"
    }
   },
   "outputs": [],
   "source": [
    "stats.pearsonr(kds,fscores)"
   ]
  }
 ],
 "metadata": {
  "celltoolbar": "Slideshow",
  "kernelspec": {
   "display_name": "Python 3 (ipykernel)",
   "language": "python",
   "name": "python3"
  },
  "language_info": {
   "codemirror_mode": {
    "name": "ipython",
    "version": 3
   },
   "file_extension": ".py",
   "mimetype": "text/x-python",
   "name": "python",
   "nbconvert_exporter": "python",
   "pygments_lexer": "ipython3",
   "version": "3.9.7"
  }
 },
 "nbformat": 4,
 "nbformat_minor": 1
}
