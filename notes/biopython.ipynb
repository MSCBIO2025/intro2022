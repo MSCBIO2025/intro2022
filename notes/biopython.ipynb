{
 "cells": [
  {
   "cell_type": "markdown",
   "metadata": {
    "slideshow": {
     "slide_type": "slide"
    }
   },
   "source": [
    "# sequences and biopython\n",
    "## 9/22/2022\n",
    "\n",
    "<a href=\"?print-pdf\">print view</a>"
   ]
  },
  {
   "cell_type": "code",
   "execution_count": 1,
   "metadata": {
    "slideshow": {
     "slide_type": "skip"
    }
   },
   "outputs": [
    {
     "data": {
      "text/html": [
       "\n",
       "<script src=\"http://bits.csb.pitt.edu/asker.js/lib/asker.js\"></script>\n",
       "\n",
       "<script>\n",
       "\n",
       "require(['https://cdnjs.cloudflare.com/ajax/libs/Chart.js/2.2.2/Chart.js'], function(Ch){\n",
       " Chart = Ch;\n",
       "});\n",
       "\n",
       "$('head').append('<link rel=\"stylesheet\" href=\"http://bits.csb.pitt.edu/asker.js/themes/asker.default.css\" />');\n",
       "\n",
       "\n",
       "//the callback is provided a canvas object and data \n",
       "var chartmaker = function(canvas, labels, data) {\n",
       "  var ctx = $(canvas).get(0).getContext(\"2d\");\n",
       "     var dataset = {labels: labels,                     \n",
       "    datasets:[{\n",
       "     data: data,\n",
       "     backgroundColor: \"rgba(150,64,150,0.5)\",\n",
       "         fillColor: \"rgba(150,64,150,0.8)\",    \n",
       "  }]};\n",
       "  var myBarChart = new Chart(ctx,{type:'bar',data:dataset,options:{legend: {display:false},scales:{yAxes:[{ticks:{min: 0}}]}}});\n",
       "\n",
       "\n",
       "};\n",
       "\n",
       "$(\".jp-InputArea .o:contains(html)\").closest('.jp-InputArea').hide();\n",
       "\n",
       "</script>\n"
      ],
      "text/plain": [
       "<IPython.core.display.HTML object>"
      ]
     },
     "metadata": {},
     "output_type": "display_data"
    }
   ],
   "source": [
    "%%html\n",
    "\n",
    "<script src=\"http://bits.csb.pitt.edu/asker.js/lib/asker.js\"></script>\n",
    "\n",
    "<script>\n",
    "\n",
    "require(['https://cdnjs.cloudflare.com/ajax/libs/Chart.js/2.2.2/Chart.js'], function(Ch){\n",
    " Chart = Ch;\n",
    "});\n",
    "\n",
    "$('head').append('<link rel=\"stylesheet\" href=\"http://bits.csb.pitt.edu/asker.js/themes/asker.default.css\" />');\n",
    "\n",
    "\n",
    "//the callback is provided a canvas object and data \n",
    "var chartmaker = function(canvas, labels, data) {\n",
    "  var ctx = $(canvas).get(0).getContext(\"2d\");\n",
    "     var dataset = {labels: labels,                     \n",
    "    datasets:[{\n",
    "     data: data,\n",
    "     backgroundColor: \"rgba(150,64,150,0.5)\",\n",
    "         fillColor: \"rgba(150,64,150,0.8)\",    \n",
    "  }]};\n",
    "  var myBarChart = new Chart(ctx,{type:'bar',data:dataset,options:{legend: {display:false},scales:{yAxes:[{ticks:{min: 0}}]}}});\n",
    "\n",
    "\n",
    "};\n",
    "\n",
    "$(\".jp-InputArea .o:contains(html)\").closest('.jp-InputArea').hide();\n",
    "\n",
    "</script>"
   ]
  },
  {
   "cell_type": "markdown",
   "metadata": {
    "slideshow": {
     "slide_type": "slide"
    }
   },
   "source": [
    "# Sequence data\n",
    "\n",
    "[http://www.ncbi.nlm.nih.gov](http://www.ncbi.nlm.nih.gov)\n",
    "\n",
    "[Example](http://www.ncbi.nlm.nih.gov/gene/5216)"
   ]
  },
  {
   "cell_type": "markdown",
   "metadata": {
    "slideshow": {
     "slide_type": "slide"
    }
   },
   "source": [
    "# FASTA\n",
    "\n",
    "First line is description of sequence and starts with `>`\n",
    "\n",
    "All lines up to the next `>` are part of the same sequence\n",
    "\n",
    "Usually less than 80 characters per line\n",
    "\n",
    "```\n",
    ">gi|568815581:c4949086-4945650 Homo sapiens chromosome 17, GRCh38.p2 Primary Assembly\n",
    "CCCGCAGGGTCCACACGGGTCGGGCCGGGCGCGCTCCCGTGCAGCCGGCTCCGGCCCCGACCGCCCCATG\n",
    "CACTCCCGGCCCCGGCGCAGGCGCAGGCGCGGGCACACGCGCCGCCGCCCGCCGGTCCTTCCCTTCGGCG\n",
    "GAGGTGGGGGAAGGAGGAGTCATCCCGTTTAACCCTGGGCTCCCCGAACTCTCCTTAATTTGCTAAATTT\n",
    "GCAGCTTGCTAATTCCTCCTGCTTTCTCCTTCCTTCCTTCTTCTGGCTCACTCCCTGCCCCGATACCAAA\n",
    "GTCTGGTTTATATTCAGTGCAAATTGGAGCAAACCCTACCCTTCACCTCTCTCCCGCCACCCCCCATCCT\n",
    "TCTGCATTGCTTTCCATCGAACTCTGCAAATTTTGCAATAGGGGGAGGGATTTTTAAAATTGCATTTGCA\n",
    "```"
   ]
  },
  {
   "cell_type": "markdown",
   "metadata": {
    "slideshow": {
     "slide_type": "slide"
    }
   },
   "source": [
    "# Genbank\n",
    "\n",
    "Annotated format.  Starts with `LOCUS` field.  Can have several other annotation (e.g. `KEYWORDS`, `SOURCE`, `REFERENCE`, `FEATURES`).\n",
    "\n",
    "`ORIGIN` record indicates start of sequence\n",
    "\n",
    "'`\\\\`' indicates the end of sequence\n",
    "\n",
    "```\n",
    "LOCUS       CAG28598                 140 aa            linear   PRI 16-OCT-2008\n",
    "DEFINITION  PFN1, partial [Homo sapiens].\n",
    "ACCESSION   CAG28598\n",
    "VERSION     CAG28598.1  GI:47115277\n",
    "DBSOURCE    embl accession CR407670.1\n",
    "KEYWORDS    .\n",
    "SOURCE      Homo sapiens (human)\n",
    "  ORGANISM  Homo sapiens\n",
    "            Eukaryota; Metazoa; Chordata; Craniata; Vertebrata; Euteleostomi;\n",
    "            Mammalia; Eutheria; Euarchontoglires; Primates; Haplorrhini;\n",
    "            Catarrhini; Hominidae; Homo.\n",
    "ORIGIN      \n",
    "        1 magwnayidn lmadgtcqda aivgykdsps vwaavpgktf vnitpaevgv lvgkdrssfy\n",
    "       61 vngltlggqk csvirdsllq dgefsmdlrt kstggaptfn vtvtktdktl vllmgkegvh\n",
    "      121 gglinkkcye mashlrrsqy\n",
    "//\n",
    "```"
   ]
  },
  {
   "cell_type": "markdown",
   "metadata": {
    "slideshow": {
     "slide_type": "slide"
    }
   },
   "source": [
    "# Biopython\n",
    "\n",
    "*Biopython features include parsers for various Bioinformatics file formats (BLAST, Clustalw, FASTA, Genbank,...), access to online services (NCBI, Expasy,...), interfaces to common and not-so-common programs (Clustalw, DSSP, MSMS...), a standard sequence class, various clustering modules, a KD tree data structure etc. and even documentation.*\n",
    "\n",
    "Other modules that might be of interest:\n",
    "\n",
    " *   Pycogent: http://pycogent.org/\n",
    " *   bx-python: http://bitbucket.org/james_taylor/bx-python/wiki/Home\n",
    " *   DendroPy: http://packages.python.org/DendroPy/\n",
    " *   Pygr: http://code.google.com/p/pygr/\n",
    " *   bioservices: https://bioservices.readthedocs.io/en/master/\n",
    " \n",
    "Biopython is **not** for performing sequencing itself (see: https://crc.pitt.edu/training/fall-2021-next-generation-sequencing-workshops)."
   ]
  },
  {
   "cell_type": "markdown",
   "metadata": {
    "collapsed": true,
    "slideshow": {
     "slide_type": "slide"
    }
   },
   "source": [
    "# Sequence Objects"
   ]
  },
  {
   "cell_type": "code",
   "execution_count": 2,
   "metadata": {},
   "outputs": [
    {
     "data": {
      "text/plain": [
       "Seq('GATTACA')"
      ]
     },
     "execution_count": 2,
     "metadata": {},
     "output_type": "execute_result"
    }
   ],
   "source": [
    "from Bio.Seq import Seq # the submodule structure of biopython is a little awkward\n",
    "\n",
    "s = Seq(\"GATTACA\")\n",
    "s"
   ]
  },
  {
   "cell_type": "markdown",
   "metadata": {},
   "source": [
    "Sequences act a lot like strings, but have additional methods.\n",
    "\n",
    "Methods shared with `str`: `count`, `endswith`, `find`, `lower`, `lstrip`, `rfind`, `split`, `startswith`, `strip`,`upper`\n",
    "\n",
    "`Seq` methods:`back_transcribe`, `complement`, `reverse_complement`, `tomutable`, `tostring`, `transcribe`, `translate`, `ungap`"
   ]
  },
  {
   "cell_type": "markdown",
   "metadata": {
    "slideshow": {
     "slide_type": "slide"
    }
   },
   "source": [
    "# Accessing Seq data\n",
    "\n",
    "Sequences act like strings (indexed from 0)"
   ]
  },
  {
   "cell_type": "code",
   "execution_count": 3,
   "metadata": {},
   "outputs": [
    {
     "data": {
      "text/plain": [
       "'G'"
      ]
     },
     "execution_count": 3,
     "metadata": {},
     "output_type": "execute_result"
    }
   ],
   "source": [
    "s[0]"
   ]
  },
  {
   "cell_type": "code",
   "execution_count": 4,
   "metadata": {},
   "outputs": [
    {
     "data": {
      "text/plain": [
       "Seq('TT')"
      ]
     },
     "execution_count": 4,
     "metadata": {},
     "output_type": "execute_result"
    }
   ],
   "source": [
    "s[2:4] #returns sequence"
   ]
  },
  {
   "cell_type": "code",
   "execution_count": 5,
   "metadata": {},
   "outputs": [
    {
     "data": {
      "text/plain": [
       "Seq('gattaca')"
      ]
     },
     "execution_count": 5,
     "metadata": {},
     "output_type": "execute_result"
    }
   ],
   "source": [
    "s.lower()"
   ]
  },
  {
   "cell_type": "code",
   "execution_count": 6,
   "metadata": {},
   "outputs": [
    {
     "data": {
      "text/plain": [
       "Seq('GATTACAGATTACA')"
      ]
     },
     "execution_count": 6,
     "metadata": {},
     "output_type": "execute_result"
    }
   ],
   "source": [
    "s + s"
   ]
  },
  {
   "cell_type": "markdown",
   "metadata": {
    "slideshow": {
     "slide_type": "slide"
    }
   },
   "source": [
    "# The Central Dogma"
   ]
  },
  {
   "cell_type": "markdown",
   "metadata": {},
   "source": [
    "```\n",
    "DNA coding strand (aka Crick strand, strand +1)\t \n",
    "5’\tATGGCCATTGTAATGGGCCGCTGAAAGGGTGCCCGATAG\t3’\n",
    " \t|||||||||||||||||||||||||||||||||||||||\t \n",
    "3’\tTACCGGTAACATTACCCGGCGACTTTCCCACGGGCTATC\t5’\n",
    " \tDNA template strand (aka Watson strand, strand −1)\t \n",
    "                        |\t \n",
    "                    Transcription\t \n",
    "                        ↓\t \n",
    " \n",
    "5’\tAUGGCCAUUGUAAUGGGCCGCUGAAAGGGUGCCCGAUAG\t3’\n",
    " \tSingle stranded messenger RNA\t \n",
    "                        |\t \n",
    "                   Translation\t \n",
    "                        ↓\t \n",
    "                  MAIVMGR*KGAR*\n",
    "        amino acid sequence (w/stop codons)\n",
    " ```"
   ]
  },
  {
   "cell_type": "code",
   "execution_count": 7,
   "metadata": {},
   "outputs": [
    {
     "data": {
      "text/plain": [
       "(Seq('CTAATGTCTAATGTCTAATGT'), Seq('TGTAATCTGTAATCTGTAATC'))"
      ]
     },
     "execution_count": 7,
     "metadata": {},
     "output_type": "execute_result"
    }
   ],
   "source": [
    "dna = Seq('GATTACAGATTACAGATTACA')\n",
    "dna.complement(),dna.reverse_complement()"
   ]
  },
  {
   "cell_type": "markdown",
   "metadata": {
    "slideshow": {
     "slide_type": "slide"
    }
   },
   "source": [
    "# The Central Dogma"
   ]
  },
  {
   "cell_type": "code",
   "execution_count": 8,
   "metadata": {},
   "outputs": [
    {
     "data": {
      "text/plain": [
       "Seq('GATTACAGATTACAGATTACA')"
      ]
     },
     "execution_count": 8,
     "metadata": {},
     "output_type": "execute_result"
    }
   ],
   "source": [
    "dna"
   ]
  },
  {
   "cell_type": "code",
   "execution_count": 9,
   "metadata": {},
   "outputs": [
    {
     "data": {
      "text/plain": [
       "Seq('GAUUACAGAUUACAGAUUACA')"
      ]
     },
     "execution_count": 9,
     "metadata": {},
     "output_type": "execute_result"
    }
   ],
   "source": [
    "rna = dna.transcribe()\n",
    "rna"
   ]
  },
  {
   "cell_type": "code",
   "execution_count": 10,
   "metadata": {},
   "outputs": [
    {
     "data": {
      "text/plain": [
       "Seq('DYRLQIT')"
      ]
     },
     "execution_count": 10,
     "metadata": {},
     "output_type": "execute_result"
    }
   ],
   "source": [
    "protein = rna.translate()\n",
    "protein"
   ]
  },
  {
   "cell_type": "code",
   "execution_count": 11,
   "metadata": {},
   "outputs": [
    {
     "data": {
      "text/plain": [
       "Seq('DYRLQIT')"
      ]
     },
     "execution_count": 11,
     "metadata": {},
     "output_type": "execute_result"
    }
   ],
   "source": [
    "dna.translate() #unlike cells, don't actually need rna"
   ]
  },
  {
   "cell_type": "markdown",
   "metadata": {
    "slideshow": {
     "slide_type": "slide"
    }
   },
   "source": [
    "# Codon Tables\n",
    "\n",
    "By default the standard translation table is used, but others can be provided to the translate method."
   ]
  },
  {
   "cell_type": "code",
   "execution_count": 12,
   "metadata": {
    "slideshow": {
     "slide_type": "-"
    }
   },
   "outputs": [
    {
     "name": "stdout",
     "output_type": "stream",
     "text": [
      "['Alternative Flatworm Mitochondrial', 'Alternative Yeast Nuclear', 'Archaeal', 'Ascidian Mitochondrial', 'Bacterial', 'Balanophoraceae Plastid', 'Blastocrithidia Nuclear', 'Blepharisma Macronuclear', 'Candidate Division SR1', 'Cephalodiscidae Mitochondrial', 'Chlorophycean Mitochondrial', 'Ciliate Nuclear', 'Coelenterate Mitochondrial', 'Condylostoma Nuclear', 'Dasycladacean Nuclear', 'Echinoderm Mitochondrial', 'Euplotid Nuclear', 'Flatworm Mitochondrial', 'Gracilibacteria', 'Hexamita Nuclear', 'Invertebrate Mitochondrial', 'Karyorelict Nuclear', 'Mesodinium Nuclear', 'Mold Mitochondrial', 'Mycoplasma', 'Pachysolen tannophilus Nuclear', 'Peritrich Nuclear', 'Plant Plastid', 'Protozoan Mitochondrial', 'Pterobranchia Mitochondrial', 'SGC0', 'SGC1', 'SGC2', 'SGC3', 'SGC4', 'SGC5', 'SGC8', 'SGC9', 'Scenedesmus obliquus Mitochondrial', 'Spiroplasma', 'Standard', 'Thraustochytrium Mitochondrial', 'Trematode Mitochondrial', 'Vertebrate Mitochondrial', 'Yeast Mitochondrial']\n"
     ]
    }
   ],
   "source": [
    "from Bio.Data import CodonTable\n",
    "print(sorted(CodonTable.unambiguous_dna_by_name.keys()))"
   ]
  },
  {
   "cell_type": "code",
   "execution_count": 13,
   "metadata": {
    "slideshow": {
     "slide_type": "slide"
    }
   },
   "outputs": [
    {
     "name": "stdout",
     "output_type": "stream",
     "text": [
      "Table 1 Standard, SGC0\n",
      "\n",
      "  |  T      |  C      |  A      |  G      |\n",
      "--+---------+---------+---------+---------+--\n",
      "T | TTT F   | TCT S   | TAT Y   | TGT C   | T\n",
      "T | TTC F   | TCC S   | TAC Y   | TGC C   | C\n",
      "T | TTA L   | TCA S   | TAA Stop| TGA Stop| A\n",
      "T | TTG L(s)| TCG S   | TAG Stop| TGG W   | G\n",
      "--+---------+---------+---------+---------+--\n",
      "C | CTT L   | CCT P   | CAT H   | CGT R   | T\n",
      "C | CTC L   | CCC P   | CAC H   | CGC R   | C\n",
      "C | CTA L   | CCA P   | CAA Q   | CGA R   | A\n",
      "C | CTG L(s)| CCG P   | CAG Q   | CGG R   | G\n",
      "--+---------+---------+---------+---------+--\n",
      "A | ATT I   | ACT T   | AAT N   | AGT S   | T\n",
      "A | ATC I   | ACC T   | AAC N   | AGC S   | C\n",
      "A | ATA I   | ACA T   | AAA K   | AGA R   | A\n",
      "A | ATG M(s)| ACG T   | AAG K   | AGG R   | G\n",
      "--+---------+---------+---------+---------+--\n",
      "G | GTT V   | GCT A   | GAT D   | GGT G   | T\n",
      "G | GTC V   | GCC A   | GAC D   | GGC G   | C\n",
      "G | GTA V   | GCA A   | GAA E   | GGA G   | A\n",
      "G | GTG V   | GCG A   | GAG E   | GGG G   | G\n",
      "--+---------+---------+---------+---------+--\n"
     ]
    }
   ],
   "source": [
    "print(CodonTable.unambiguous_dna_by_name['Standard'])"
   ]
  },
  {
   "cell_type": "markdown",
   "metadata": {
    "slideshow": {
     "slide_type": "slide"
    }
   },
   "source": [
    "<img src=\"../files/amino_acids.svg\">"
   ]
  },
  {
   "cell_type": "code",
   "execution_count": 14,
   "metadata": {
    "slideshow": {
     "slide_type": "slide"
    }
   },
   "outputs": [
    {
     "data": {
      "text/html": [
       "<div id=\"seqtrans\" style=\"width: 500px\"></div>\n",
       "<script>\n",
       "$('head').append('<link rel=\"stylesheet\" href=\"http://bits.csb.pitt.edu/asker.js/themes/asker.default.css\" />');\n",
       "\n",
       "    var divid = '#seqtrans';\n",
       "\tjQuery(divid).asker({\n",
       "\t    id: divid,\n",
       "\t    question: \"What amino acid does the codon <tt>CAT</tt> translate to?\",\n",
       "\t\tanswers: ['H',\"Y\",\"V\",\"A\",\"X\"],\n",
       "        extra: ['Histidine','Tyrosine','Valine','Alanine','Other'],\n",
       "        server: \"http://bits.csb.pitt.edu/asker.js/example/asker.cgi\",\n",
       "\t\tcharter: chartmaker})\n",
       "    \n",
       "$(\".jp-InputArea .o:contains(html)\").closest('.jp-InputArea').hide();\n",
       "\n",
       "\n",
       "</script>\n"
      ],
      "text/plain": [
       "<IPython.core.display.HTML object>"
      ]
     },
     "metadata": {},
     "output_type": "display_data"
    }
   ],
   "source": [
    "%%html\n",
    "<div id=\"seqtrans\" style=\"width: 500px\"></div>\n",
    "<script>\n",
    "$('head').append('<link rel=\"stylesheet\" href=\"http://bits.csb.pitt.edu/asker.js/themes/asker.default.css\" />');\n",
    "\n",
    "    var divid = '#seqtrans';\n",
    "\tjQuery(divid).asker({\n",
    "\t    id: divid,\n",
    "\t    question: \"What amino acid does the codon <tt>CAT</tt> translate to?\",\n",
    "\t\tanswers: ['H',\"Y\",\"V\",\"A\",\"X\"],\n",
    "        extra: ['Histidine','Tyrosine','Valine','Alanine','Other'],\n",
    "        server: \"http://bits.csb.pitt.edu/asker.js/example/asker.cgi\",\n",
    "\t\tcharter: chartmaker})\n",
    "    \n",
    "$(\".jp-InputArea .o:contains(html)\").closest('.jp-InputArea').hide();\n",
    "\n",
    "\n",
    "</script>"
   ]
  },
  {
   "cell_type": "markdown",
   "metadata": {
    "slideshow": {
     "slide_type": "slide"
    }
   },
   "source": [
    "# SeqRecord\n",
    "\n",
    "Sequence data is read/written as `SeqRecord` objects.\n",
    "\n",
    "These objects store additional information about the sequence (name, id, description, features)\n",
    "\n",
    "`SeqIO` reads sequence records: \n",
    "  * must specify format\n",
    "  * `read` to read a file with a single record\n",
    "  * `parse` to iterate over file with mulitple records"
   ]
  },
  {
   "cell_type": "code",
   "execution_count": 15,
   "metadata": {
    "slideshow": {
     "slide_type": "slide"
    }
   },
   "outputs": [
    {
     "data": {
      "text/plain": [
       "SeqRecord(seq=Seq('GATGGGATTGGGGTTTTCCCCTCCCATGTGCTCAAGACTGGCGCTAAAAGTTTT...GTG'), id='NG_017013.2', name='NG_017013', description='Homo sapiens tumor protein p53 (TP53), RefSeqGene (LRG_321) on chromosome 17', dbxrefs=[])"
      ]
     },
     "execution_count": 15,
     "metadata": {},
     "output_type": "execute_result"
    }
   ],
   "source": [
    "from Bio.SeqRecord import SeqRecord\n",
    "from Bio import SeqIO\n",
    "seq = SeqIO.read('../files/p53.gb','genbank')\n",
    "seq"
   ]
  },
  {
   "cell_type": "code",
   "execution_count": 16,
   "metadata": {},
   "outputs": [],
   "source": [
    "seqs = []\n",
    "# https://asinansaglam.github.io/python_bio_2022/files/hydra.fasta\n",
    "for s in SeqIO.parse('../files/hydra.fasta','fasta'):\n",
    "    seqs.append(s)"
   ]
  },
  {
   "cell_type": "code",
   "execution_count": 17,
   "metadata": {},
   "outputs": [
    {
     "data": {
      "text/plain": [
       "40"
      ]
     },
     "execution_count": 17,
     "metadata": {},
     "output_type": "execute_result"
    }
   ],
   "source": [
    "len(seqs)"
   ]
  },
  {
   "cell_type": "markdown",
   "metadata": {
    "slideshow": {
     "slide_type": "slide"
    }
   },
   "source": [
    "# Fetching sequences from the Internet\n",
    "\n",
    "Biopython provides and interface to the [NCBI \"Entrez\" search engine](http://www.ncbi.nlm.nih.gov/sites/gquery)\n",
    "\n",
    "The results of internet queries are returned as file-like objects."
   ]
  },
  {
   "cell_type": "code",
   "execution_count": 18,
   "metadata": {},
   "outputs": [
    {
     "data": {
      "text/plain": [
       "{'DbList': ['pubmed', 'protein', 'nuccore', 'ipg', 'nucleotide', 'structure', 'genome', 'annotinfo', 'assembly', 'bioproject', 'biosample', 'blastdbinfo', 'books', 'cdd', 'clinvar', 'gap', 'gapplus', 'grasp', 'dbvar', 'gene', 'gds', 'geoprofiles', 'homologene', 'medgen', 'mesh', 'nlmcatalog', 'omim', 'orgtrack', 'pmc', 'popset', 'proteinclusters', 'pcassay', 'protfam', 'pccompound', 'pcsubstance', 'seqannot', 'snp', 'sra', 'taxonomy', 'biocollections', 'gtr']}"
      ]
     },
     "execution_count": 18,
     "metadata": {},
     "output_type": "execute_result"
    }
   ],
   "source": [
    "from Bio import Entrez\n",
    "Entrez.email = \"anupam06@pitt.edu\" #biopython forces you to provide your email\n",
    "res = Entrez.read(Entrez.einfo()) # the names of all available databases\n",
    "res"
   ]
  },
  {
   "cell_type": "code",
   "execution_count": 19,
   "metadata": {},
   "outputs": [
    {
     "name": "stdout",
     "output_type": "stream",
     "text": [
      "['annotinfo', 'assembly', 'biocollections', 'bioproject', 'biosample', 'blastdbinfo', 'books', 'cdd', 'clinvar', 'dbvar', 'gap', 'gapplus', 'gds', 'gene', 'genome', 'geoprofiles', 'grasp', 'gtr', 'homologene', 'ipg', 'medgen', 'mesh', 'nlmcatalog', 'nuccore', 'nucleotide', 'omim', 'orgtrack', 'pcassay', 'pccompound', 'pcsubstance', 'pmc', 'popset', 'protein', 'proteinclusters', 'protfam', 'pubmed', 'seqannot', 'snp', 'sra', 'structure', 'taxonomy']\n"
     ]
    }
   ],
   "source": [
    "print(sorted(res['DbList']))"
   ]
  },
  {
   "cell_type": "markdown",
   "metadata": {
    "slideshow": {
     "slide_type": "slide"
    }
   },
   "source": [
    "# ESearch\n",
    "\n",
    "You can search any database for a given term and it will return the ids of all the relevant records."
   ]
  },
  {
   "cell_type": "code",
   "execution_count": 20,
   "metadata": {},
   "outputs": [
    {
     "name": "stdout",
     "output_type": "stream",
     "text": [
      "{'Count': '13952', 'RetMax': '20', 'RetStart': '0', 'IdList': ['2305267856', '2282758285', '1890284017', '1890259806', '1754759090', '1519314585', '2304421674', '2304420639', '2304420637', '2304420635', '2304394480', '2304381810', '2304108082', '2303650768', '2301366272', '2301366271', '2301366264', '2301366094', '2301092457', '1779521750'], 'TranslationSet': [], 'TranslationStack': [{'Term': 'tp53[All Fields]', 'Field': 'All Fields', 'Count': '13952', 'Explode': 'N'}, 'GROUP'], 'QueryTranslation': 'tp53[All Fields]'}\n"
     ]
    }
   ],
   "source": [
    "result = Entrez.esearch(db='nucleotide', term='tp53')  #the result is a file-like object of the raw xml data\n",
    "records = Entrez.read(result) #put into a more palatable form (dictionary)\n",
    "print(records)"
   ]
  },
  {
   "cell_type": "markdown",
   "metadata": {},
   "source": [
    "There were <strike>2923</strike> <strike>7616</strike> <strike>8238</strike> <strike>10725</strike> <strike>11850</strike> <strike>12751</strike> 13952 hits, but by default only 20 are returned.  We can change this ([and other parameters](http://www.ncbi.nlm.nih.gov/books/NBK25499/#chapter4.ESearch)) by changing our search terms."
   ]
  },
  {
   "cell_type": "code",
   "execution_count": 21,
   "metadata": {
    "slideshow": {
     "slide_type": "slide"
    }
   },
   "outputs": [
    {
     "data": {
      "text/plain": [
       "{'Count': '13952', 'RetMax': '50', 'RetStart': '0', 'IdList': ['2305267856', '2282758285', '1890284017', '1890259806', '1754759090', '1519314585', '2304421674', '2304420639', '2304420637', '2304420635', '2304394480', '2304381810', '2304108082', '2303650768', '2301366272', '2301366271', '2301366264', '2301366094', '2301092457', '1779521750', '1776842969', '1770500621', '1767160158', '1701944608', '1677538550', '1677500641', '1519315365', '1519244995', '1519242127', '1038986277', '1038986240', '1027860313', '529250147', '425876786', '425876785', '41054668', '2301915761', '2301915372', '2301760217', '2301759437', '2225944019', '2225943958', '2225943955', '2223292405', '2223290504', '2223287941', '2223271075', '1519473487', '187960039', '187960038'], 'TranslationSet': [], 'TranslationStack': [{'Term': 'tp53[All Fields]', 'Field': 'All Fields', 'Count': '13952', 'Explode': 'N'}, 'GROUP'], 'QueryTranslation': 'tp53[All Fields]'}"
      ]
     },
     "execution_count": 21,
     "metadata": {},
     "output_type": "execute_result"
    }
   ],
   "source": [
    "records = Entrez.read(Entrez.esearch(db='nucleotide', term='tp53', retmax=50))\n",
    "records"
   ]
  },
  {
   "cell_type": "markdown",
   "metadata": {
    "slideshow": {
     "slide_type": "slide"
    }
   },
   "source": [
    "# EFetch\n",
    "\n",
    "To get the full record for a given id, use `efetch`.  \n",
    "\n",
    "Must provide `rettype`  ([available options](http://www.ncbi.nlm.nih.gov/books/NBK25499/table/chapter4.T._valid_values_of__retmode_and/?report=objectonly) include fasta and gb)\n",
    "\n",
    "`retmode` can be text or xml."
   ]
  },
  {
   "cell_type": "code",
   "execution_count": 22,
   "metadata": {},
   "outputs": [],
   "source": [
    "#fetch the genbank file for the first id from our search\n",
    "result = Entrez.efetch(db=\"nucleotide\",id=records['IdList'][0],rettype=\"gb\",retmode='text')\n",
    "#parse into a seqrecord\n",
    "p53 = SeqIO.read(result,'gb')"
   ]
  },
  {
   "cell_type": "code",
   "execution_count": 23,
   "metadata": {},
   "outputs": [
    {
     "data": {
      "text/plain": [
       "<_io.TextIOWrapper encoding='UTF-8'>"
      ]
     },
     "execution_count": 23,
     "metadata": {},
     "output_type": "execute_result"
    }
   ],
   "source": [
    "result"
   ]
  },
  {
   "cell_type": "code",
   "execution_count": 24,
   "metadata": {},
   "outputs": [
    {
     "data": {
      "text/plain": [
       "SeqRecord(seq=Seq('GATTTATGATTAATGATTAATTGATAAGAAGACCCTCGTTTCGTTCTCGTAATC...AGA'), id='XM_050653761.1', name='XM_050653761', description='PREDICTED: Diabrotica virgifera virgifera TP53-regulated inhibitor of apoptosis 1-like (LOC126886743), mRNA', dbxrefs=['BioProject:PRJNA862183'])"
      ]
     },
     "execution_count": 24,
     "metadata": {},
     "output_type": "execute_result"
    }
   ],
   "source": [
    "p53"
   ]
  },
  {
   "cell_type": "markdown",
   "metadata": {
    "slideshow": {
     "slide_type": "slide"
    }
   },
   "source": [
    "# Features\n",
    "\n",
    "Genbank files are typically annotated with features, which refer to portions of the full sequence\n",
    "\n",
    "`SeqRecord` objects track these features and you can extract the corresponding subsequence\n",
    "\n",
    "*CDS* - coding sequence"
   ]
  },
  {
   "cell_type": "code",
   "execution_count": 25,
   "metadata": {},
   "outputs": [
    {
     "data": {
      "text/plain": [
       "[SeqFeature(FeatureLocation(ExactPosition(0), ExactPosition(610), strand=1), type='source'),\n",
       " SeqFeature(FeatureLocation(ExactPosition(0), ExactPosition(610), strand=1), type='gene'),\n",
       " SeqFeature(FeatureLocation(ExactPosition(128), ExactPosition(365), strand=1), type='CDS'),\n",
       " SeqFeature(FeatureLocation(ExactPosition(609), ExactPosition(610), strand=1), type='polyA_site')]"
      ]
     },
     "execution_count": 25,
     "metadata": {},
     "output_type": "execute_result"
    }
   ],
   "source": [
    "p53.features"
   ]
  },
  {
   "cell_type": "markdown",
   "metadata": {
    "slideshow": {
     "slide_type": "slide"
    }
   },
   "source": [
    "# Extracting subsequences"
   ]
  },
  {
   "cell_type": "code",
   "execution_count": 26,
   "metadata": {},
   "outputs": [
    {
     "name": "stdout",
     "output_type": "stream",
     "text": [
      "type: CDS\n",
      "location: [128:365](+)\n",
      "qualifiers:\n",
      "    Key: codon_start, Value: ['1']\n",
      "    Key: db_xref, Value: ['GeneID:126886743']\n",
      "    Key: gene, Value: ['LOC126886743']\n",
      "    Key: product, Value: ['TP53-regulated inhibitor of apoptosis 1-like']\n",
      "    Key: protein_id, Value: ['XP_050509718.1']\n",
      "    Key: translation, Value: ['MNSIGEACNDLKKEYDACFNSWFSDHFLRGKTNDSMCAPLFRVYQQCVKKAMKDQKIDLQEVSADVLGGAKEKKIETP']\n",
      "\n"
     ]
    }
   ],
   "source": [
    "cdsfeature = p53.features[2]\n",
    "print(cdsfeature)"
   ]
  },
  {
   "cell_type": "markdown",
   "metadata": {
    "slideshow": {
     "slide_type": "slide"
    }
   },
   "source": [
    "The subsequence the feature refers to can be extracted from the original full sequence using the feature."
   ]
  },
  {
   "cell_type": "code",
   "execution_count": 27,
   "metadata": {
    "slideshow": {
     "slide_type": "-"
    }
   },
   "outputs": [
    {
     "data": {
      "text/plain": [
       "SeqRecord(seq=Seq('ATGAACAGCATAGGAGAGGCTTGCAATGATCTTAAAAAGGAATACGACGCCTGT...TAA'), id='XM_050653761.1', name='XM_050653761', description='PREDICTED: Diabrotica virgifera virgifera TP53-regulated inhibitor of apoptosis 1-like (LOC126886743), mRNA', dbxrefs=[])"
      ]
     },
     "execution_count": 27,
     "metadata": {},
     "output_type": "execute_result"
    }
   ],
   "source": [
    "coding = cdsfeature.extract(p53) #pass the full record (p53) to the feature\n",
    "coding"
   ]
  },
  {
   "cell_type": "markdown",
   "metadata": {
    "slideshow": {
     "slide_type": "slide"
    }
   },
   "source": [
    "# BLAST!\n",
    "\n",
    "Biopython let's you use [NCBI's BLAST](http://blast.ncbi.nlm.nih.gov/Blast.cgi) to search for similar sequences with `qblast` which has three required arguments:\n",
    " * **program**: blastn, blastp, blastx, tblastn, tblastx\n",
    " * **database**: see website\n",
    " * **sequence**: a sequence object"
   ]
  },
  {
   "cell_type": "code",
   "execution_count": 28,
   "metadata": {},
   "outputs": [],
   "source": [
    "from Bio.Blast import NCBIWWW\n",
    "result = NCBIWWW.qblast(\"blastn\",\"nt\",coding.seq,hitlist_size=250)\n",
    "#result is a file-like object with xml in it - it can take a while to get results"
   ]
  },
  {
   "cell_type": "code",
   "execution_count": 29,
   "metadata": {},
   "outputs": [],
   "source": [
    "from Bio.Blast import NCBIXML #for parsing xmls\n",
    "blast_records = NCBIXML.read(result)"
   ]
  },
  {
   "cell_type": "code",
   "execution_count": 30,
   "metadata": {},
   "outputs": [
    {
     "name": "stdout",
     "output_type": "stream",
     "text": [
      "250 250\n"
     ]
    }
   ],
   "source": [
    "print(len(blast_records.alignments),len(blast_records.descriptions))"
   ]
  },
  {
   "cell_type": "code",
   "execution_count": 31,
   "metadata": {
    "slideshow": {
     "slide_type": "slide"
    }
   },
   "outputs": [
    {
     "name": "stdout",
     "output_type": "stream",
     "text": [
      "1\n"
     ]
    }
   ],
   "source": [
    "alignment = blast_records.alignments[0]\n",
    "print(len(alignment.hsps))"
   ]
  },
  {
   "cell_type": "code",
   "execution_count": 32,
   "metadata": {},
   "outputs": [
    {
     "name": "stdout",
     "output_type": "stream",
     "text": [
      "****Alignment****\n",
      "sequence: gi|1586312208|ref|XM_028280139.1| PREDICTED: Diabrotica virgifera virgifera TP53-regulated inhibitor of apoptosis 1-like (LOC114330722), mRNA\n",
      "length: 597\n",
      "e value: 3.44675e-111\n",
      "ATGAACAGCATAGGAGAGGCTTGCAATGATCTTAAAAAGGAATACGACGCCTGTTTCAACAGTTGGTTTTCAGAT...\n",
      "|||||||||||||||||||||||||||||||||||||||||||||||||||||||||||||||||||||||||||...\n",
      "ATGAACAGCATAGGAGAGGCTTGCAATGATCTTAAAAAGGAATACGACGCCTGTTTCAACAGTTGGTTTTCAGAT...\n"
     ]
    }
   ],
   "source": [
    "hsp = alignment.hsps[0] #high scoring segment pairs\n",
    "print('****Alignment****')\n",
    "print('sequence:', alignment.title)\n",
    "print('length:', alignment.length)\n",
    "print('e value:', hsp.expect)\n",
    "print(hsp.query[0:75] + '...')  # what we searched with\n",
    "print(hsp.match[0:75] + '...')\n",
    "print(hsp.sbjct[0:75] + '...')  # what we matched to"
   ]
  },
  {
   "cell_type": "code",
   "execution_count": 33,
   "metadata": {
    "slideshow": {
     "slide_type": "slide"
    }
   },
   "outputs": [
    {
     "name": "stdout",
     "output_type": "stream",
     "text": [
      "****Alignment****\n",
      "sequence: gi|2085085806|ref|XM_017194244.2| PREDICTED: Drosophila ficusphila TP53-regulated inhibitor of apoptosis 1 (LOC108093888), mRNA\n",
      "length: 645\n",
      "e value: 7.62557e-12\n",
      "ATGAACAGCATAGGAGAGGCTTGCAATGATCTTAAAAAGGAATACGACGCCTGTTTCAACAGTTGGTTTTCAGAT...\n",
      "||||  ||| | || |||| ||||||||| || || ||| | ||||| || ||||||||||| ||||| || || ...\n",
      "ATGAGTAGCGTTGGCGAGGATTGCAATGAGCTCAAGAAGCAGTACGATGCTTGTTTCAACAGCTGGTTCTCGGAA...\n"
     ]
    }
   ],
   "source": [
    "alignment = blast_records.alignments[-1] # get last alignment\n",
    "hsp = alignment.hsps[0]\n",
    "print('****Alignment****')\n",
    "print('sequence:', alignment.title)\n",
    "print('length:', alignment.length)\n",
    "print('e value:', hsp.expect)\n",
    "print(hsp.query[0:75] + '...')  # what we searched with\n",
    "print(hsp.match[0:75] + '...')\n",
    "print(hsp.sbjct[0:75] + '...')  # what we matched to\n"
   ]
  },
  {
   "cell_type": "markdown",
   "metadata": {
    "slideshow": {
     "slide_type": "slide"
    }
   },
   "source": [
    "# Creating alignments\n",
    "\n",
    "Biopython uses `clustal` to perform multiple alignments\n",
    "\n",
    "The interface is very simple - you construct the `clustal` commandline and must read the result files"
   ]
  },
  {
   "cell_type": "code",
   "execution_count": 34,
   "metadata": {},
   "outputs": [],
   "source": [
    "from Bio.Align.Applications import ClustalwCommandline\n",
    "cline = ClustalwCommandline('clustalw', infile='../files/hydra.fasta',outfile='alignment.aln')"
   ]
  },
  {
   "cell_type": "code",
   "execution_count": 35,
   "metadata": {},
   "outputs": [
    {
     "name": "stdout",
     "output_type": "stream",
     "text": [
      "clustalw -infile=../files/hydra.fasta -outfile=alignment.aln\n"
     ]
    }
   ],
   "source": [
    "print(cline)"
   ]
  },
  {
   "cell_type": "code",
   "execution_count": 36,
   "metadata": {},
   "outputs": [],
   "source": [
    "output = cline() #this calls the above, may take a while # If it doesn't work, sudo apt install clustalw"
   ]
  },
  {
   "cell_type": "code",
   "execution_count": 37,
   "metadata": {},
   "outputs": [
    {
     "name": "stdout",
     "output_type": "stream",
     "text": [
      "CLUSTAL 2.1 multiple sequence alignment\r\n",
      "\r\n",
      "\r\n",
      "gi|164609123|gb|ABY62783.1|/1-      ------------MLNIAILCLSCYINYVSCLSLTSPAIIEEVVGRSVTIT\r\n",
      "model1_F.pdb                        ------------------------------LSLTSPAIIEEVVGRSVTIT\r\n",
      "gi|225423262|gb|ACN91137.1|/1-      ------------MLNIAILSLSCYINYVSCLSLTSPAIIEEVVGRSVTIT\r\n",
      "gi|302171750|gb|ADK97776.1|/1-      ------------MLNIAILSLSCYINYVSCLSLTSPAIIEEVVGRSVTIT\r\n",
      "gi|302171774|gb|ADK97788.1|/1-      ------------MLNIAILCLSCYINYVSCLSLTSSAIIEEVVNRSVTIT\r\n",
      "gi|225423244|gb|ACN91128.1|/1-      ------------MLNIAILCLSCYINYVSCLSLTSSAIIEEVVNRSVTIT\r\n",
      "gi|225423272|gb|ACN91142.1|/1-      ------------MLNIAILLLSCYINYVSSLSLTSPAIIEEVVNRSVTIT\r\n"
     ]
    }
   ],
   "source": [
    "!head alignment.aln"
   ]
  },
  {
   "cell_type": "markdown",
   "metadata": {
    "slideshow": {
     "slide_type": "slide"
    }
   },
   "source": [
    "# Alignments\n",
    "\n",
    "`AlignIO` is used to read alignment files (must provide format)"
   ]
  },
  {
   "cell_type": "code",
   "execution_count": 38,
   "metadata": {},
   "outputs": [],
   "source": [
    "from Bio import AlignIO\n",
    "align = AlignIO.read('alignment.aln','clustal')"
   ]
  },
  {
   "cell_type": "code",
   "execution_count": 39,
   "metadata": {},
   "outputs": [
    {
     "data": {
      "text/plain": [
       "<<class 'Bio.Align.MultipleSeqAlignment'> instance (40 records of length 691) at 7f170f9d1eb0>"
      ]
     },
     "execution_count": 39,
     "metadata": {},
     "output_type": "execute_result"
    }
   ],
   "source": [
    "align"
   ]
  },
  {
   "cell_type": "code",
   "execution_count": 40,
   "metadata": {},
   "outputs": [
    {
     "name": "stdout",
     "output_type": "stream",
     "text": [
      "Alignment with 40 rows and 691 columns\n",
      "------------MLNIAILCLSCYINYVSCLSLTSPAIIEEVVG...QKK gi|164609123|gb|ABY62783.1|/1-\n",
      "------------------------------LSLTSPAIIEEVVG...--- model1_F.pdb\n",
      "------------MLNIAILSLSCYINYVSCLSLTSPAIIEEVVG...QKK gi|225423262|gb|ACN91137.1|/1-\n",
      "------------MLNIAILSLSCYINYVSCLSLTSPAIIEEVVG...QKK gi|302171750|gb|ADK97776.1|/1-\n",
      "------------MLNIAILCLSCYINYVSCLSLTSSAIIEEVVN...QKK gi|302171774|gb|ADK97788.1|/1-\n",
      "------------MLNIAILCLSCYINYVSCLSLTSSAIIEEVVN...QKK gi|225423244|gb|ACN91128.1|/1-\n",
      "------------MLNIAILLLSCYINYVSSLSLTSPAIIEEVVN...QKK gi|225423272|gb|ACN91142.1|/1-\n",
      "------------MLNIAILCLSYYVNYVSCLSLTSPAIIEEVVG...QKK gi|302171742|gb|ADK97772.1|/1-\n",
      "------------MLNIAILCLSYYVNYVSCLSLTSPAIIEEVVG...QKK gi|225423264|gb|ACN91138.1|/1-\n",
      "------------MLNIAILSLSCYINYVSCLSLTSPAIIEEVVG...QKK gi|302171780|gb|ADK97791.1|/1-\n",
      "------------MLNIAILCLSCYINYVSCVSLTSPAIIEEVVG...QKK gi|302171756|gb|ADK97779.1|/1-\n",
      "------------MLNVVILCLSCYINYVSCLSLTSPAIIEEVVG...QKK gi|225423288|gb|ACN91150.1|/1-\n",
      "MKLVIVIPNDENLLNIAILCLSCYLNYVSCLSLTSPAIIEKVVG...QKK gi|225423270|gb|ACN91141.1|/1-\n",
      "------------MLNIAILCLSCYINYVSCVSVTSPPIIEEVVG...QKK gi|302171766|gb|ADK97784.1|/1-\n",
      "------------MLNIAILCLSCYINYVSCVSVTSPPIIEEVVG...QKK gi|225423256|gb|ACN91134.1|/1-\n",
      "------------MLNIAILCLSCYINYVSCVSVTSPPIIEEVVG...QKK gi|302171748|gb|ADK97775.1|/1-\n",
      "------------MLNIAILCLSCYINYVSCLSLTSSAIIEEVVG...QKK gi|302171772|gb|ADK97787.1|/1-\n",
      "------------MLNIAILCLSCYINYVSCLSVTSPAIIEEVVG...QKK gi|225423294|gb|ACN91153.1|/1-\n",
      "...\n",
      "------------MLNIAILSLSCYINYVSCLSLTSPAIIEKVVG...QKK gi|302171764|gb|ADK97783.1|/1-\n"
     ]
    }
   ],
   "source": [
    "print(align)"
   ]
  },
  {
   "cell_type": "markdown",
   "metadata": {
    "slideshow": {
     "slide_type": "slide"
    }
   },
   "source": [
    "# Slicing Alignments\n",
    "\n",
    "Alignments are sliced just like `numpy` arrays"
   ]
  },
  {
   "cell_type": "code",
   "execution_count": 41,
   "metadata": {},
   "outputs": [
    {
     "data": {
      "text/plain": [
       "SeqRecord(seq=Seq('------------MLNIAILCLSCYINYVSCLSLTSPAIIEEVVGRSVTITYVTD...QKK'), id='gi|164609123|gb|ABY62783.1|/1-', name='<unknown name>', description='gi|164609123|gb|ABY62783.1|/1-', dbxrefs=[])"
      ]
     },
     "execution_count": 41,
     "metadata": {},
     "output_type": "execute_result"
    }
   ],
   "source": [
    "align[0] #first row"
   ]
  },
  {
   "cell_type": "code",
   "execution_count": 42,
   "metadata": {},
   "outputs": [
    {
     "data": {
      "text/plain": [
       "'------------M-----------------M---------'"
      ]
     },
     "execution_count": 42,
     "metadata": {},
     "output_type": "execute_result"
    }
   ],
   "source": [
    "align[:,0] #first column"
   ]
  },
  {
   "cell_type": "code",
   "execution_count": 43,
   "metadata": {},
   "outputs": [
    {
     "name": "stdout",
     "output_type": "stream",
     "text": [
      "Alignment with 40 rows and 40 columns\n",
      "------------MLNIAILCLSCYINYVSCLSLTSPAIIE gi|164609123|gb|ABY62783.1|/1-\n",
      "------------------------------LSLTSPAIIE model1_F.pdb\n",
      "------------MLNIAILSLSCYINYVSCLSLTSPAIIE gi|225423262|gb|ACN91137.1|/1-\n",
      "------------MLNIAILSLSCYINYVSCLSLTSPAIIE gi|302171750|gb|ADK97776.1|/1-\n",
      "------------MLNIAILCLSCYINYVSCLSLTSSAIIE gi|302171774|gb|ADK97788.1|/1-\n",
      "------------MLNIAILCLSCYINYVSCLSLTSSAIIE gi|225423244|gb|ACN91128.1|/1-\n",
      "------------MLNIAILLLSCYINYVSSLSLTSPAIIE gi|225423272|gb|ACN91142.1|/1-\n",
      "------------MLNIAILCLSYYVNYVSCLSLTSPAIIE gi|302171742|gb|ADK97772.1|/1-\n",
      "------------MLNIAILCLSYYVNYVSCLSLTSPAIIE gi|225423264|gb|ACN91138.1|/1-\n",
      "------------MLNIAILSLSCYINYVSCLSLTSPAIIE gi|302171780|gb|ADK97791.1|/1-\n",
      "------------MLNIAILCLSCYINYVSCVSLTSPAIIE gi|302171756|gb|ADK97779.1|/1-\n",
      "------------MLNVVILCLSCYINYVSCLSLTSPAIIE gi|225423288|gb|ACN91150.1|/1-\n",
      "MKLVIVIPNDENLLNIAILCLSCYLNYVSCLSLTSPAIIE gi|225423270|gb|ACN91141.1|/1-\n",
      "------------MLNIAILCLSCYINYVSCVSVTSPPIIE gi|302171766|gb|ADK97784.1|/1-\n",
      "------------MLNIAILCLSCYINYVSCVSVTSPPIIE gi|225423256|gb|ACN91134.1|/1-\n",
      "------------MLNIAILCLSCYINYVSCVSVTSPPIIE gi|302171748|gb|ADK97775.1|/1-\n",
      "------------MLNIAILCLSCYINYVSCLSLTSSAIIE gi|302171772|gb|ADK97787.1|/1-\n",
      "------------MLNIAILCLSCYINYVSCLSVTSPAIIE gi|225423294|gb|ACN91153.1|/1-\n",
      "...\n",
      "------------MLNIAILSLSCYINYVSCLSLTSPAIIE gi|302171764|gb|ADK97783.1|/1-\n"
     ]
    }
   ],
   "source": [
    "print(align[:,0:40])"
   ]
  },
  {
   "cell_type": "markdown",
   "metadata": {
    "slideshow": {
     "slide_type": "slide"
    }
   },
   "source": [
    "# And now for a brief foray into marine microbiology...\n",
    "\n",
    "https://asinansaglam.github.io/python_bio_2022/files/hydra.fasta"
   ]
  },
  {
   "cell_type": "markdown",
   "metadata": {
    "slideshow": {
     "slide_type": "slide"
    }
   },
   "source": [
    "<img src=\"imgs/sequence_project/sequence_project.001.png\" width=\"100%\">"
   ]
  },
  {
   "cell_type": "markdown",
   "metadata": {
    "slideshow": {
     "slide_type": "slide"
    }
   },
   "source": [
    "<img src=\"imgs/sequence_project/sequence_project.002.png\" width=\"100%\">"
   ]
  },
  {
   "cell_type": "markdown",
   "metadata": {
    "slideshow": {
     "slide_type": "slide"
    }
   },
   "source": [
    "<img src=\"imgs/sequence_project/sequence_project.003.png\" width=\"100%\">"
   ]
  },
  {
   "cell_type": "markdown",
   "metadata": {
    "slideshow": {
     "slide_type": "slide"
    }
   },
   "source": [
    "<img src=\"imgs/sequence_project/sequence_project.004.png\" width=\"100%\">"
   ]
  },
  {
   "cell_type": "markdown",
   "metadata": {
    "slideshow": {
     "slide_type": "slide"
    }
   },
   "source": [
    "<img src=\"imgs/sequence_project/sequence_project.005.png\"  width=\"100%\">"
   ]
  },
  {
   "cell_type": "markdown",
   "metadata": {
    "slideshow": {
     "slide_type": "slide"
    }
   },
   "source": [
    "<img src=\"imgs/sequence_project/sequence_project.006.png\"  width=\"100%\">"
   ]
  },
  {
   "cell_type": "markdown",
   "metadata": {
    "slideshow": {
     "slide_type": "slide"
    }
   },
   "source": [
    "<img src=\"imgs/sequence_project/sequence_project.007.png\" width=\"100%\">"
   ]
  },
  {
   "cell_type": "markdown",
   "metadata": {
    "slideshow": {
     "slide_type": "slide"
    }
   },
   "source": [
    "<img src=\"imgs/sequence_project/sequence_project.008.png\" width=\"100%\">"
   ]
  },
  {
   "cell_type": "markdown",
   "metadata": {
    "slideshow": {
     "slide_type": "slide"
    }
   },
   "source": [
    "# Project\n",
    "\n",
    "We have a gene (alr2), but what part of the gene is responsible for allorecognition?\n",
    "\n",
    "Given 179 sequences, how might we find out?\n",
    "\n",
    "https://asinansaglam.github.io/python_bio_2022/files/hydra179.aln"
   ]
  },
  {
   "cell_type": "markdown",
   "metadata": {
    "slideshow": {
     "slide_type": "fragment"
    }
   },
   "source": [
    "Find the part of the sequence that changes the most.\n",
    " * Count number of distinct residues at each position. Plot.\n",
    " * Count number of distinct *subsequences* of length 10 at each position. Plot."
   ]
  },
  {
   "cell_type": "markdown",
   "metadata": {
    "slideshow": {
     "slide_type": "subslide"
    }
   },
   "source": [
    "<img src=\"imgs/sequence_project/sequence_project.011.png\">"
   ]
  },
  {
   "cell_type": "code",
   "execution_count": 44,
   "metadata": {},
   "outputs": [
    {
     "name": "stdout",
     "output_type": "stream",
     "text": [
      "--2022-09-22 03:38:48--  https://asinansaglam.github.io/python_bio_2022/files/hydra179.aln\n",
      "Resolving asinansaglam.github.io (asinansaglam.github.io)... 2606:50c0:8001::153, 2606:50c0:8002::153, 2606:50c0:8003::153, ...\n",
      "Connecting to asinansaglam.github.io (asinansaglam.github.io)|2606:50c0:8001::153|:443... connected.\n",
      "HTTP request sent, awaiting response... 200 OK\n",
      "Length: 218936 (214K) [application/octet-stream]\n",
      "Saving to: ‘hydra179.aln.2’\n",
      "\n",
      "hydra179.aln.2      100%[===================>] 213.80K  --.-KB/s    in 0.07s   \n",
      "\n",
      "2022-09-22 03:38:51 (3.18 MB/s) - ‘hydra179.aln.2’ saved [218936/218936]\n",
      "\n"
     ]
    }
   ],
   "source": [
    "! wget https://asinansaglam.github.io/python_bio_2022/files/hydra179.aln"
   ]
  },
  {
   "cell_type": "code",
   "execution_count": 45,
   "metadata": {
    "slideshow": {
     "slide_type": "notes"
    }
   },
   "outputs": [
    {
     "data": {
      "image/png": "[encoded data removed]",
      "text/plain": [
       "<Figure size 432x288 with 1 Axes>"
      ]
     },
     "metadata": {
      "needs_background": "light"
     },
     "output_type": "display_data"
    }
   ],
   "source": [
    "import matplotlib.pyplot as plt\n",
    "from Bio import AlignIO\n",
    "\n",
    "def countatpos(seqs,pos):\n",
    "    '''count the number of unique subsequences of length 10 at pos in seqs'''\n",
    "    vals = set()\n",
    "    for s in seqs:\n",
    "        vals.add(str(s[pos:pos+10].seq))\n",
    "    return len(vals)\n",
    "\n",
    "seqs = AlignIO.read(\"hydra179.aln\",'clustal');\n",
    "\n",
    "xaxis = list()\n",
    "yaxis = list()\n",
    "for i in range(seqs.get_alignment_length()):\n",
    "    xaxis.append(i)\n",
    "    yaxis.append(countatpos(seqs,i))\n",
    "\n",
    "plt.bar(xaxis,yaxis,width=1);"
   ]
  },
  {
   "cell_type": "code",
   "execution_count": null,
   "metadata": {},
   "outputs": [],
   "source": []
  }
 ],
 "metadata": {
  "celltoolbar": "Slideshow",
  "kernelspec": {
   "display_name": "Python 3 (ipykernel)",
   "language": "python",
   "name": "python3"
  },
  "language_info": {
   "codemirror_mode": {
    "name": "ipython",
    "version": 3
   },
   "file_extension": ".py",
   "mimetype": "text/x-python",
   "name": "python",
   "nbconvert_exporter": "python",
   "pygments_lexer": "ipython3",
   "version": "3.9.7"
  }
 },
 "nbformat": 4,
 "nbformat_minor": 1
}
