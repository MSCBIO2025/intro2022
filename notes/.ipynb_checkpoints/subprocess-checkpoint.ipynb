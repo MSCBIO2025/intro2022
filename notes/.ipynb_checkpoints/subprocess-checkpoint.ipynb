{
 "cells": [
  {
   "cell_type": "markdown",
   "metadata": {
    "slideshow": {
     "slide_type": "slide"
    }
   },
   "source": [
    "# Subprocess"
   ]
  },
  {
   "cell_type": "markdown",
   "metadata": {},
   "source": [
    "## 11/17/2022\n",
    "\n",
    "<a href=\"?print-pdf\">print view</a>"
   ]
  },
  {
   "cell_type": "code",
   "execution_count": 1,
   "metadata": {
    "slideshow": {
     "slide_type": "skip"
    }
   },
   "outputs": [
    {
     "data": {
      "text/html": [
       "<script src=\"http://bits.csb.pitt.edu/asker.js/lib/asker.js\"></script>\n",
       "<script>\n",
       "\n",
       "require(['https://cdnjs.cloudflare.com/ajax/libs/Chart.js/2.2.2/Chart.js'], function(Ch){\n",
       " Chart = Ch;\n",
       "});\n",
       "\n",
       "$('head').append('<link rel=\"stylesheet\" href=\"http://bits.csb.pitt.edu/asker.js/themes/asker.default.css\" />');\n",
       "\n",
       "\n",
       "//the callback is provided a canvas object and data \n",
       "var chartmaker = function(canvas, labels, data) {\n",
       "  var ctx = $(canvas).get(0).getContext(\"2d\");\n",
       "     var dataset = {labels: labels,                     \n",
       "    datasets:[{\n",
       "     data: data,\n",
       "     backgroundColor: \"rgba(150,64,150,0.5)\",\n",
       "         fillColor: \"rgba(150,64,150,0.8)\",    \n",
       "  }]};\n",
       "  var myBarChart = new Chart(ctx,{type:'bar',data:dataset,options:{legend: {display:false},\n",
       "        scales: {\n",
       "            yAxes: [{\n",
       "                ticks: {\n",
       "                    min: 0,\n",
       "                }\n",
       "            }]}}});\n",
       "};\n",
       "\n",
       "$(\".jp-InputArea .o:contains(html)\").closest('.jp-InputArea').hide();\n",
       "\n",
       "\n",
       "\n",
       "</script>\n"
      ],
      "text/plain": [
       "<IPython.core.display.HTML object>"
      ]
     },
     "metadata": {},
     "output_type": "display_data"
    }
   ],
   "source": [
    "%%html\n",
    "<script src=\"http://bits.csb.pitt.edu/asker.js/lib/asker.js\"></script>\n",
    "<script>\n",
    "\n",
    "require(['https://cdnjs.cloudflare.com/ajax/libs/Chart.js/2.2.2/Chart.js'], function(Ch){\n",
    " Chart = Ch;\n",
    "});\n",
    "\n",
    "$('head').append('<link rel=\"stylesheet\" href=\"http://bits.csb.pitt.edu/asker.js/themes/asker.default.css\" />');\n",
    "\n",
    "\n",
    "//the callback is provided a canvas object and data \n",
    "var chartmaker = function(canvas, labels, data) {\n",
    "  var ctx = $(canvas).get(0).getContext(\"2d\");\n",
    "     var dataset = {labels: labels,                     \n",
    "    datasets:[{\n",
    "     data: data,\n",
    "     backgroundColor: \"rgba(150,64,150,0.5)\",\n",
    "         fillColor: \"rgba(150,64,150,0.8)\",    \n",
    "  }]};\n",
    "  var myBarChart = new Chart(ctx,{type:'bar',data:dataset,options:{legend: {display:false},\n",
    "        scales: {\n",
    "            yAxes: [{\n",
    "                ticks: {\n",
    "                    min: 0,\n",
    "                }\n",
    "            }]}}});\n",
    "};\n",
    "\n",
    "$(\".jp-InputArea .o:contains(html)\").closest('.jp-InputArea').hide();\n",
    "\n",
    "\n",
    "\n",
    "</script>"
   ]
  },
  {
   "cell_type": "markdown",
   "metadata": {
    "slideshow": {
     "slide_type": "slide"
    }
   },
   "source": [
    "# Final Project - Due 11:59pm 12/6/2022\n",
    "\n",
    "Create an assignment, ideally related to your research. \n",
    "\n",
    "The script resulting from the assignment should be a general purpose tool capable of taking different inputs.  You are not required to decompose your assignment into different levels of partial credit (e.g. 70%, 80%, etc.)\n",
    "but you may find it useful to structure it that way for organizational purposes.\n",
    " \n",
    "You may use any python packages as long as they can be installed with a package manager.\n",
    "\n",
    "You are required to provide:\n",
    "\n",
    "* A writeup with sufficient detail for a student to understand and implement the assignment.\n",
    "* The python code to the solution.\n",
    "* At least three usage examples\n",
    "  * commandlines with provided inputs and expected outputs \n",
    "* An in-class presentation describing the assignment (8-10 minutes)\n",
    "\n",
    "**Make sure it is okay to publicly release the data.**"
   ]
  },
  {
   "cell_type": "markdown",
   "metadata": {
    "slideshow": {
     "slide_type": "slide"
    }
   },
   "source": [
    "### Grading Rubric\n",
    "##### Presentation\n",
    "* Is the problem sufficiently motivated?\n",
    "* Are relevant and informative visual aids used (avoid massive walls of text!)?\n",
    "* Is the input and desired output clearly described?\n",
    "* Is there an outline for how the code will work?\n",
    "\n",
    "##### Writeup\n",
    "* Is sufficient, but not excessive, background information provided?\n",
    "* Is the task clearly described?\n",
    "* Are the steps required to complete the task presented in a logical manner?\n",
    "* Are there at least three examples, complete with commandline?\n",
    "* Are the examples sufficient to demonstrate the task?\n",
    "\n",
    "##### Code\n",
    "* Does the code do what it is suppose to?\n",
    "* Are gross inefficiencies avoided?\n",
    "* Are appropriate data structures used?\n",
    "* Are language features appropriately used?"
   ]
  },
  {
   "cell_type": "markdown",
   "metadata": {
    "slideshow": {
     "slide_type": "skip"
    }
   },
   "source": [
    "# Final Presentations\n",
    "\n"
   ]
  },
  {
   "cell_type": "code",
   "execution_count": 1,
   "metadata": {
    "slideshow": {
     "slide_type": "skip"
    }
   },
   "outputs": [
    {
     "data": {
      "text/html": [
       "<div id=\"finalsched\" style=\"width: 500px\"></div>\n",
       "<script>\n",
       "$('head').append('<link rel=\"stylesheet\" href=\"http://bits.csb.pitt.edu/asker.js/themes/asker.default.css\" />');\n",
       "\n",
       "    var divid = '#finalsched';\n",
       "\tjQuery(divid).asker({\n",
       "\t    id: divid,\n",
       "\t    question: \"Would you prefer final presentations to be one 3-hour session or two 1.5 hour sessions?\",\n",
       "\t\tanswers: ['One - 12/7','One - 12/9','Two'],\n",
       "        server: \"http://bits.csb.pitt.edu/asker.js/example/asker.cgi\",\n",
       "\t\tcharter: chartmaker})\n",
       "    \n",
       "$(\".jp-InputArea .o:contains(html)\").closest('.jp-InputArea').hide();\n",
       "\n",
       "\n",
       "</script>\n"
      ],
      "text/plain": [
       "<IPython.core.display.HTML object>"
      ]
     },
     "metadata": {},
     "output_type": "display_data"
    }
   ],
   "source": [
    "%%html\n",
    "<div id=\"finalsched\" style=\"width: 500px\"></div>\n",
    "<script>\n",
    "$('head').append('<link rel=\"stylesheet\" href=\"http://bits.csb.pitt.edu/asker.js/themes/asker.default.css\" />');\n",
    "\n",
    "    var divid = '#finalsched';\n",
    "\tjQuery(divid).asker({\n",
    "\t    id: divid,\n",
    "\t    question: \"Would you prefer final presentations to be one 3-hour session or two 1.5 hour sessions?\",\n",
    "\t\tanswers: ['One - 12/7','One - 12/9','Two'],\n",
    "        server: \"http://bits.csb.pitt.edu/asker.js/example/asker.cgi\",\n",
    "\t\tcharter: chartmaker})\n",
    "    \n",
    "$(\".jp-InputArea .o:contains(html)\").closest('.jp-InputArea').hide();\n",
    "\n",
    "\n",
    "</script>"
   ]
  },
  {
   "cell_type": "markdown",
   "metadata": {
    "slideshow": {
     "slide_type": "slide"
    }
   },
   "source": [
    "# Going Outside the (Python) Box"
   ]
  },
  {
   "cell_type": "markdown",
   "metadata": {},
   "source": [
    "Sometimes you need to integrate with programs that don't have a python interface (or you think it would just be easier to use the command line interface).\n",
    "\n",
    "Python has a versatile subprocess module for calling and interacting with other programs.\n",
    "\n",
    "However, first the venerable system command:"
   ]
  },
  {
   "cell_type": "code",
   "execution_count": 3,
   "metadata": {},
   "outputs": [
    {
     "name": "stderr",
     "output_type": "stream",
     "text": [
      "  % Total    % Received % Xferd  Average Speed   Time    Time     Time  Current\n",
      "                                 Dload  Upload   Total   Spent    Left  Speed\n",
      "\r",
      "  0     0    0     0    0     0      0      0 --:--:-- --:--:-- --:--:--     0\r",
      "100   348  100   348    0     0   4143      0 --:--:-- --:--:-- --:--:--  4192\n"
     ]
    },
    {
     "data": {
      "text/plain": [
       "0"
      ]
     },
     "execution_count": 3,
     "metadata": {},
     "output_type": "execute_result"
    }
   ],
   "source": [
    "import os\n",
    "os.system(\"curl  http://mscbio2025.csb.pitt.edu -o class.html\")"
   ]
  },
  {
   "cell_type": "markdown",
   "metadata": {},
   "source": [
    "The return value of the system command is the exit code (not what is printed to screen)."
   ]
  },
  {
   "cell_type": "code",
   "execution_count": 4,
   "metadata": {},
   "outputs": [
    {
     "data": {
      "text/plain": [
       "348"
      ]
     },
     "execution_count": 4,
     "metadata": {},
     "output_type": "execute_result"
    }
   ],
   "source": [
    "f = open('class.html')\n",
    "len(f.read())"
   ]
  },
  {
   "cell_type": "code",
   "execution_count": 2,
   "metadata": {
    "slideshow": {
     "slide_type": "slide"
    }
   },
   "outputs": [
    {
     "data": {
      "text/html": [
       "<div id=\"sub1\" style=\"width: 500px\"></div>\n",
       "<script>\n",
       "$('head').append('<link rel=\"stylesheet\" href=\"http://bits.csb.pitt.edu/asker.js/themes/asker.default.css\" />');\n",
       "\n",
       "    var divid = '#sub1';\n",
       "\tjQuery(divid).asker({\n",
       "\t    id: divid,\n",
       "\t    question: \"What exit code indicates success?\",\n",
       "\t\tanswers: ['-1','0','1','empty string'],\n",
       "        server: \"http://bits.csb.pitt.edu/asker.js/example/asker.cgi\",\n",
       "\t\tcharter: chartmaker})\n",
       "    \n",
       "$(\".jp-InputArea .o:contains(html)\").closest('.jp-InputArea').hide();\n",
       "\n",
       "\n",
       "</script>\n"
      ],
      "text/plain": [
       "<IPython.core.display.HTML object>"
      ]
     },
     "metadata": {},
     "output_type": "display_data"
    }
   ],
   "source": [
    "%%html\n",
    "<div id=\"sub1\" style=\"width: 500px\"></div>\n",
    "<script>\n",
    "$('head').append('<link rel=\"stylesheet\" href=\"http://bits.csb.pitt.edu/asker.js/themes/asker.default.css\" />');\n",
    "\n",
    "    var divid = '#sub1';\n",
    "\tjQuery(divid).asker({\n",
    "\t    id: divid,\n",
    "\t    question: \"What exit code indicates success?\",\n",
    "\t\tanswers: ['-1','0','1','empty string'],\n",
    "        server: \"http://bits.csb.pitt.edu/asker.js/example/asker.cgi\",\n",
    "\t\tcharter: chartmaker})\n",
    "    \n",
    "$(\".jp-InputArea .o:contains(html)\").closest('.jp-InputArea').hide();\n",
    "\n",
    "\n",
    "</script>"
   ]
  },
  {
   "cell_type": "markdown",
   "metadata": {
    "slideshow": {
     "slide_type": "slide"
    }
   },
   "source": [
    "# subprocess"
   ]
  },
  {
   "cell_type": "markdown",
   "metadata": {},
   "source": [
    "The `subprocess` module replaces the following modules (so don't use them):\n",
    "\n",
    "os.system\n",
    "\n",
    "os.spawn*\n",
    "\n",
    "os.popen*\n",
    "\n",
    "popen2.*\n",
    "\n",
    "commands.*\n"
   ]
  },
  {
   "cell_type": "markdown",
   "metadata": {
    "slideshow": {
     "slide_type": "slide"
    }
   },
   "source": [
    "# subprocess.call"
   ]
  },
  {
   "cell_type": "code",
   "execution_count": 5,
   "metadata": {
    "slideshow": {
     "slide_type": "skip"
    }
   },
   "outputs": [],
   "source": [
    "ARGS='ls'"
   ]
  },
  {
   "cell_type": "code",
   "execution_count": 6,
   "metadata": {
    "slideshow": {
     "slide_type": "skip"
    }
   },
   "outputs": [
    {
     "name": "stdout",
     "output_type": "stream",
     "text": [
      "mkdir: cannot create directory ‘/tmp/empty’: File exists\r\n"
     ]
    }
   ],
   "source": [
    "!mkdir /tmp/empty"
   ]
  },
  {
   "cell_type": "code",
   "execution_count": 7,
   "metadata": {
    "slideshow": {
     "slide_type": "skip"
    }
   },
   "outputs": [
    {
     "name": "stdout",
     "output_type": "stream",
     "text": [
      "/tmp/empty\n"
     ]
    }
   ],
   "source": [
    "cd /tmp/empty"
   ]
  },
  {
   "cell_type": "code",
   "execution_count": 8,
   "metadata": {},
   "outputs": [
    {
     "name": "stdout",
     "output_type": "stream",
     "text": [
      "dump\n",
      "file with spaces\n",
      "ligs.sdf\n",
      "ligs.sdf.1\n",
      "receptor.pdb\n",
      "receptor.pdb.1\n",
      "smina\n"
     ]
    },
    {
     "data": {
      "text/plain": [
       "0"
      ]
     },
     "execution_count": 8,
     "metadata": {},
     "output_type": "execute_result"
    }
   ],
   "source": [
    "import subprocess\n",
    "subprocess.call(ARGS, stdin=None, stdout=None, stderr=None, shell=False)"
   ]
  },
  {
   "cell_type": "markdown",
   "metadata": {},
   "source": [
    "Run the command described by `ARGS`. Wait for command to complete, then return the returncode attribute.\n",
    "\n",
    "<center><img src='../files/call.png'></center>"
   ]
  },
  {
   "cell_type": "markdown",
   "metadata": {
    "slideshow": {
     "slide_type": "slide"
    }
   },
   "source": [
    "# ARGS"
   ]
  },
  {
   "cell_type": "markdown",
   "metadata": {},
   "source": [
    "`ARGS` specifies the command to call and its arguments.  It can either be a **string** or a **list of strings**."
   ]
  },
  {
   "cell_type": "code",
   "execution_count": 11,
   "metadata": {
    "scrolled": true
   },
   "outputs": [
    {
     "name": "stdout",
     "output_type": "stream",
     "text": [
      "\n"
     ]
    },
    {
     "data": {
      "text/plain": [
       "0"
      ]
     },
     "execution_count": 11,
     "metadata": {},
     "output_type": "execute_result"
    }
   ],
   "source": [
    "subprocess.call('echo')\n",
    "# subprocess.call([\"echo\"])"
   ]
  },
  {
   "cell_type": "code",
   "execution_count": 12,
   "metadata": {},
   "outputs": [
    {
     "name": "stdout",
     "output_type": "stream",
     "text": [
      "hello\n"
     ]
    },
    {
     "data": {
      "text/plain": [
       "0"
      ]
     },
     "execution_count": 12,
     "metadata": {},
     "output_type": "execute_result"
    }
   ],
   "source": [
    "subprocess.call(['echo','hello'])"
   ]
  },
  {
   "cell_type": "markdown",
   "metadata": {},
   "source": [
    "If `shell=False` (default) and `args` is a string, it must be only the name of the program (no arguments).  If a list is provided, then the first element is the program name and the remaining elements are the arguments."
   ]
  },
  {
   "cell_type": "markdown",
   "metadata": {
    "slideshow": {
     "slide_type": "slide"
    }
   },
   "source": [
    "# shell"
   ]
  },
  {
   "cell_type": "markdown",
   "metadata": {},
   "source": [
    "If (and only if) `shell = True` then the string provided for `args` is parsed *exactly* as if you typed it on the commandline.  This means you that:\n",
    "\n",
    "* you must escape special characters (e.g. spaces in file names)\n",
    "* you can use the wildcard '*' character to expand file names\n",
    "* you can add IO redirection\n",
    "\n",
    "If `shell=False` then list arguments must be use and they are passed literally to the program (e.g., it would get '*' for a file name).\n",
    "\n",
    "`shell` is `False` by default for security reasons.  Consider:\n",
    "\n",
    "    filename = input(\"What file would you like to display?\\n\")\n",
    "    What file would you like to display?\n",
    "    non_existent; rm -rf / #\n",
    "    subprocess.call(\"cat \" + filename, shell=True) # Uh-oh. This will end badly..."
   ]
  },
  {
   "cell_type": "markdown",
   "metadata": {
    "slideshow": {
     "slide_type": "slide"
    }
   },
   "source": [
    "By default `/bin/sh` is used as the shell.  You are probably using `bash`.  You can specify what shell to use with the `executable` argument."
   ]
  },
  {
   "cell_type": "code",
   "execution_count": 13,
   "metadata": {},
   "outputs": [
    {
     "name": "stdout",
     "output_type": "stream",
     "text": [
      "/bin/sh\n",
      "/bin/bash\n"
     ]
    },
    {
     "data": {
      "text/plain": [
       "0"
      ]
     },
     "execution_count": 13,
     "metadata": {},
     "output_type": "execute_result"
    }
   ],
   "source": [
    "subprocess.call('echo $0',shell=True) #prints out /bin/sh\n",
    "subprocess.call('echo $0',executable='/bin/bash',shell=True) #prints out /bin/bash"
   ]
  },
  {
   "cell_type": "markdown",
   "metadata": {
    "slideshow": {
     "slide_type": "slide"
    }
   },
   "source": [
    "# shell Examples"
   ]
  },
  {
   "cell_type": "code",
   "execution_count": 13,
   "metadata": {},
   "outputs": [
    {
     "name": "stderr",
     "output_type": "stream",
     "text": [
      "ls: cannot access '*': No such file or directory\n"
     ]
    },
    {
     "data": {
      "text/plain": [
       "2"
      ]
     },
     "execution_count": 13,
     "metadata": {},
     "output_type": "execute_result"
    }
   ],
   "source": [
    "subprocess.call(['ls','*']) # ls: *: No such file or directory"
   ]
  },
  {
   "cell_type": "code",
   "execution_count": 14,
   "metadata": {},
   "outputs": [],
   "source": [
    "!touch file\\ with\\ spaces"
   ]
  },
  {
   "cell_type": "code",
   "execution_count": 15,
   "metadata": {},
   "outputs": [
    {
     "name": "stdout",
     "output_type": "stream",
     "text": [
      "dump\n",
      "file with spaces\n",
      "ligs.sdf\n",
      "ligs.sdf.1\n",
      "receptor.pdb\n",
      "receptor.pdb.1\n",
      "smina\n",
      "0\n",
      "2\n",
      "file with spaces\n",
      "0\n",
      "file with spaces\n",
      "0\n",
      "2\n"
     ]
    },
    {
     "name": "stderr",
     "output_type": "stream",
     "text": [
      "ls: cannot access 'file': No such file or directory\n",
      "ls: cannot access 'with': No such file or directory\n",
      "ls: cannot access 'spaces': No such file or directory\n",
      "ls: cannot access 'file\\ with\\ spaces': No such file or directory\n"
     ]
    }
   ],
   "source": [
    "#note - ls returns nonzero exit code if can't list any files\n",
    "print(subprocess.call('ls *',shell=True)) #shows all files\n",
    "print(subprocess.call('ls file with spaces',shell=True)) #tries to ls three different files\n",
    "print(subprocess.call('ls file\\ with\\ spaces',shell=True)) #shows single file with spaces in name\n",
    "print(subprocess.call(['ls','file with spaces'])) #ditto\n",
    "print(subprocess.call(['ls','file\\ with\\ spaces'])) #fails since it looks for file with backslashes in name"
   ]
  },
  {
   "cell_type": "code",
   "execution_count": 16,
   "metadata": {
    "slideshow": {
     "slide_type": "slide"
    }
   },
   "outputs": [
    {
     "ename": "PermissionError",
     "evalue": "[Errno 13] Permission denied: 'ls *'",
     "output_type": "error",
     "traceback": [
      "\u001b[0;31m---------------------------------------------------------------------------\u001b[0m",
      "\u001b[0;31mPermissionError\u001b[0m                           Traceback (most recent call last)",
      "\u001b[0;32m/tmp/ipykernel_22967/3042384492.py\u001b[0m in \u001b[0;36m<module>\u001b[0;34m\u001b[0m\n\u001b[0;32m----> 1\u001b[0;31m \u001b[0msubprocess\u001b[0m\u001b[0;34m.\u001b[0m\u001b[0mcall\u001b[0m\u001b[0;34m(\u001b[0m\u001b[0;34m'ls *'\u001b[0m\u001b[0;34m)\u001b[0m \u001b[0;31m#why is this FileNotFoundError?\u001b[0m\u001b[0;34m\u001b[0m\u001b[0;34m\u001b[0m\u001b[0m\n\u001b[0m",
      "\u001b[0;32m~/apps/anaconda3/lib/python3.9/subprocess.py\u001b[0m in \u001b[0;36mcall\u001b[0;34m(timeout, *popenargs, **kwargs)\u001b[0m\n\u001b[1;32m    347\u001b[0m     \u001b[0mretcode\u001b[0m \u001b[0;34m=\u001b[0m \u001b[0mcall\u001b[0m\u001b[0;34m(\u001b[0m\u001b[0;34m[\u001b[0m\u001b[0;34m\"ls\"\u001b[0m\u001b[0;34m,\u001b[0m \u001b[0;34m\"-l\"\u001b[0m\u001b[0;34m]\u001b[0m\u001b[0;34m)\u001b[0m\u001b[0;34m\u001b[0m\u001b[0;34m\u001b[0m\u001b[0m\n\u001b[1;32m    348\u001b[0m     \"\"\"\n\u001b[0;32m--> 349\u001b[0;31m     \u001b[0;32mwith\u001b[0m \u001b[0mPopen\u001b[0m\u001b[0;34m(\u001b[0m\u001b[0;34m*\u001b[0m\u001b[0mpopenargs\u001b[0m\u001b[0;34m,\u001b[0m \u001b[0;34m**\u001b[0m\u001b[0mkwargs\u001b[0m\u001b[0;34m)\u001b[0m \u001b[0;32mas\u001b[0m \u001b[0mp\u001b[0m\u001b[0;34m:\u001b[0m\u001b[0;34m\u001b[0m\u001b[0;34m\u001b[0m\u001b[0m\n\u001b[0m\u001b[1;32m    350\u001b[0m         \u001b[0;32mtry\u001b[0m\u001b[0;34m:\u001b[0m\u001b[0;34m\u001b[0m\u001b[0;34m\u001b[0m\u001b[0m\n\u001b[1;32m    351\u001b[0m             \u001b[0;32mreturn\u001b[0m \u001b[0mp\u001b[0m\u001b[0;34m.\u001b[0m\u001b[0mwait\u001b[0m\u001b[0;34m(\u001b[0m\u001b[0mtimeout\u001b[0m\u001b[0;34m=\u001b[0m\u001b[0mtimeout\u001b[0m\u001b[0;34m)\u001b[0m\u001b[0;34m\u001b[0m\u001b[0;34m\u001b[0m\u001b[0m\n",
      "\u001b[0;32m~/apps/anaconda3/lib/python3.9/subprocess.py\u001b[0m in \u001b[0;36m__init__\u001b[0;34m(self, args, bufsize, executable, stdin, stdout, stderr, preexec_fn, close_fds, shell, cwd, env, universal_newlines, startupinfo, creationflags, restore_signals, start_new_session, pass_fds, user, group, extra_groups, encoding, errors, text, umask)\u001b[0m\n\u001b[1;32m    949\u001b[0m                             encoding=encoding, errors=errors)\n\u001b[1;32m    950\u001b[0m \u001b[0;34m\u001b[0m\u001b[0m\n\u001b[0;32m--> 951\u001b[0;31m             self._execute_child(args, executable, preexec_fn, close_fds,\n\u001b[0m\u001b[1;32m    952\u001b[0m                                 \u001b[0mpass_fds\u001b[0m\u001b[0;34m,\u001b[0m \u001b[0mcwd\u001b[0m\u001b[0;34m,\u001b[0m \u001b[0menv\u001b[0m\u001b[0;34m,\u001b[0m\u001b[0;34m\u001b[0m\u001b[0;34m\u001b[0m\u001b[0m\n\u001b[1;32m    953\u001b[0m                                 \u001b[0mstartupinfo\u001b[0m\u001b[0;34m,\u001b[0m \u001b[0mcreationflags\u001b[0m\u001b[0;34m,\u001b[0m \u001b[0mshell\u001b[0m\u001b[0;34m,\u001b[0m\u001b[0;34m\u001b[0m\u001b[0;34m\u001b[0m\u001b[0m\n",
      "\u001b[0;32m~/apps/anaconda3/lib/python3.9/subprocess.py\u001b[0m in \u001b[0;36m_execute_child\u001b[0;34m(self, args, executable, preexec_fn, close_fds, pass_fds, cwd, env, startupinfo, creationflags, shell, p2cread, p2cwrite, c2pread, c2pwrite, errread, errwrite, restore_signals, gid, gids, uid, umask, start_new_session)\u001b[0m\n\u001b[1;32m   1819\u001b[0m                     \u001b[0;32mif\u001b[0m \u001b[0merrno_num\u001b[0m \u001b[0;34m!=\u001b[0m \u001b[0;36m0\u001b[0m\u001b[0;34m:\u001b[0m\u001b[0;34m\u001b[0m\u001b[0;34m\u001b[0m\u001b[0m\n\u001b[1;32m   1820\u001b[0m                         \u001b[0merr_msg\u001b[0m \u001b[0;34m=\u001b[0m \u001b[0mos\u001b[0m\u001b[0;34m.\u001b[0m\u001b[0mstrerror\u001b[0m\u001b[0;34m(\u001b[0m\u001b[0merrno_num\u001b[0m\u001b[0;34m)\u001b[0m\u001b[0;34m\u001b[0m\u001b[0;34m\u001b[0m\u001b[0m\n\u001b[0;32m-> 1821\u001b[0;31m                     \u001b[0;32mraise\u001b[0m \u001b[0mchild_exception_type\u001b[0m\u001b[0;34m(\u001b[0m\u001b[0merrno_num\u001b[0m\u001b[0;34m,\u001b[0m \u001b[0merr_msg\u001b[0m\u001b[0;34m,\u001b[0m \u001b[0merr_filename\u001b[0m\u001b[0;34m)\u001b[0m\u001b[0;34m\u001b[0m\u001b[0;34m\u001b[0m\u001b[0m\n\u001b[0m\u001b[1;32m   1822\u001b[0m                 \u001b[0;32mraise\u001b[0m \u001b[0mchild_exception_type\u001b[0m\u001b[0;34m(\u001b[0m\u001b[0merr_msg\u001b[0m\u001b[0;34m)\u001b[0m\u001b[0;34m\u001b[0m\u001b[0;34m\u001b[0m\u001b[0m\n\u001b[1;32m   1823\u001b[0m \u001b[0;34m\u001b[0m\u001b[0m\n",
      "\u001b[0;31mPermissionError\u001b[0m: [Errno 13] Permission denied: 'ls *'"
     ]
    }
   ],
   "source": [
    "subprocess.call('ls *') #why is this PermissionError?"
   ]
  },
  {
   "cell_type": "markdown",
   "metadata": {
    "slideshow": {
     "slide_type": "slide"
    }
   },
   "source": [
    "# Input/Output/Error"
   ]
  },
  {
   "cell_type": "markdown",
   "metadata": {},
   "source": [
    "Every process (program) has standard places to write output and read input. \n",
    "\n",
    "* stdin - standard input is usually from the keyboard\n",
    "* stdout - standard output is usually buffered\n",
    "* stderr - standard error is unbuffered (output immediately)\n",
    "\n",
    "On the commandline, you can changes these places with IO redirection (<,>,|).  For example:\n",
    "<pre>\n",
    "    grep Congress cnn.html > congress\n",
    "    wc < congress\n",
    "    grep Congress cnn.html | wc\n",
    "</pre>    \n",
    "When calling external programs from scripts we'll usually want to provide input to the programs and read their output, so we'll have to change these 'places' as well."
   ]
  },
  {
   "cell_type": "code",
   "execution_count": 17,
   "metadata": {
    "slideshow": {
     "slide_type": "slide"
    }
   },
   "outputs": [
    {
     "data": {
      "text/html": [
       "<div id=\"stdoutq\" style=\"width: 500px\"></div>\n",
       "<script>\n",
       "$('head').append('<link rel=\"stylesheet\" href=\"http://bits.csb.pitt.edu/asker.js/themes/asker.default.css\" />');\n",
       "\n",
       "    var divid = '#stdoutq';\n",
       "\tjQuery(divid).asker({\n",
       "\t    id: divid,\n",
       "\t    question: \"When you print something in python, where does it go?\",\n",
       "\t\tanswers: ['stdin','stdout','stderr','the screen'],\n",
       "        server: \"http://bits.csb.pitt.edu/asker.js/example/asker.cgi\",\n",
       "\t\tcharter: chartmaker})\n",
       "    \n",
       "$(\".jp-InputArea .o:contains(html)\").closest('.jp-InputArea').hide();\n",
       "\n",
       "\n",
       "</script>\n"
      ],
      "text/plain": [
       "<IPython.core.display.HTML object>"
      ]
     },
     "metadata": {},
     "output_type": "display_data"
    }
   ],
   "source": [
    "%%html\n",
    "<div id=\"stdoutq\" style=\"width: 500px\"></div>\n",
    "<script>\n",
    "$('head').append('<link rel=\"stylesheet\" href=\"http://bits.csb.pitt.edu/asker.js/themes/asker.default.css\" />');\n",
    "\n",
    "    var divid = '#stdoutq';\n",
    "\tjQuery(divid).asker({\n",
    "\t    id: divid,\n",
    "\t    question: \"When you print something in python, where does it go?\",\n",
    "\t\tanswers: ['stdin','stdout','stderr','the screen'],\n",
    "        server: \"http://bits.csb.pitt.edu/asker.js/example/asker.cgi\",\n",
    "\t\tcharter: chartmaker})\n",
    "    \n",
    "$(\".jp-InputArea .o:contains(html)\").closest('.jp-InputArea').hide();\n",
    "\n",
    "\n",
    "</script>"
   ]
  },
  {
   "cell_type": "markdown",
   "metadata": {
    "slideshow": {
     "slide_type": "slide"
    }
   },
   "source": [
    "# stdin/stdout/stderr"
   ]
  },
  {
   "cell_type": "markdown",
   "metadata": {},
   "source": [
    "stdin, stdout and stderr specify the executed program’s standard input, standard output and standard error file handles, respectively. Valid values are\n",
    "\n",
    "* `subprocess.PIPE` - this enables communication between your script and the program\n",
    "* an existing file object - e.g. created with `open`\n",
    "* None - the program will default to the existing stdin/stdout/stderr \n",
    "\n",
    "**Do no use `subprocess.PIPE` with subprocess.call**"
   ]
  },
  {
   "cell_type": "markdown",
   "metadata": {
    "slideshow": {
     "slide_type": "slide"
    }
   },
   "source": [
    "# Redirecting to files"
   ]
  },
  {
   "cell_type": "code",
   "execution_count": 19,
   "metadata": {},
   "outputs": [
    {
     "data": {
      "text/plain": [
       "'dump\\n'"
      ]
     },
     "execution_count": 19,
     "metadata": {},
     "output_type": "execute_result"
    }
   ],
   "source": [
    "f = open('dump','w')\n",
    "subprocess.call('ls',stdout=f)\n",
    "f = open('dump','r') #this would be a very inefficient way to get the stdout of a program\n",
    "f.readline()"
   ]
  },
  {
   "cell_type": "code",
   "execution_count": 20,
   "metadata": {},
   "outputs": [
    {
     "data": {
      "text/plain": [
       "2"
      ]
     },
     "execution_count": 20,
     "metadata": {},
     "output_type": "execute_result"
    }
   ],
   "source": [
    "f = open('dump','w')\n",
    "subprocess.call(['ls','nonexistantfile'],stdout=f,stderr=subprocess.STDOUT) #you can redirect stderr to stdout"
   ]
  },
  {
   "cell_type": "code",
   "execution_count": 21,
   "metadata": {},
   "outputs": [
    {
     "name": "stdout",
     "output_type": "stream",
     "text": [
      "ls: cannot access 'nonexistantfile': No such file or directory\n",
      "\n"
     ]
    }
   ],
   "source": [
    "print(open('dump').read())"
   ]
  },
  {
   "cell_type": "markdown",
   "metadata": {
    "slideshow": {
     "slide_type": "slide"
    }
   },
   "source": [
    "# subprocess.check_call"
   ]
  },
  {
   "cell_type": "markdown",
   "metadata": {},
   "source": [
    "`check_call` is identical to `call`, but throws an exception when the called program has a nonzero return value."
   ]
  },
  {
   "cell_type": "code",
   "execution_count": 22,
   "metadata": {},
   "outputs": [
    {
     "name": "stderr",
     "output_type": "stream",
     "text": [
      "ls: cannot access 'missingfile': No such file or directory\n"
     ]
    },
    {
     "ename": "CalledProcessError",
     "evalue": "Command '['ls', 'missingfile']' returned non-zero exit status 2.",
     "output_type": "error",
     "traceback": [
      "\u001b[0;31m---------------------------------------------------------------------------\u001b[0m",
      "\u001b[0;31mCalledProcessError\u001b[0m                        Traceback (most recent call last)",
      "\u001b[0;32m/tmp/ipykernel_9256/1974956330.py\u001b[0m in \u001b[0;36m<module>\u001b[0;34m\u001b[0m\n\u001b[0;32m----> 1\u001b[0;31m \u001b[0msubprocess\u001b[0m\u001b[0;34m.\u001b[0m\u001b[0mcheck_call\u001b[0m\u001b[0;34m(\u001b[0m\u001b[0;34m[\u001b[0m\u001b[0;34m'ls'\u001b[0m\u001b[0;34m,\u001b[0m\u001b[0;34m'missingfile'\u001b[0m\u001b[0;34m]\u001b[0m\u001b[0;34m)\u001b[0m\u001b[0;34m\u001b[0m\u001b[0;34m\u001b[0m\u001b[0m\n\u001b[0m",
      "\u001b[0;32m~/apps/anaconda3/lib/python3.9/subprocess.py\u001b[0m in \u001b[0;36mcheck_call\u001b[0;34m(*popenargs, **kwargs)\u001b[0m\n\u001b[1;32m    371\u001b[0m         \u001b[0;32mif\u001b[0m \u001b[0mcmd\u001b[0m \u001b[0;32mis\u001b[0m \u001b[0;32mNone\u001b[0m\u001b[0;34m:\u001b[0m\u001b[0;34m\u001b[0m\u001b[0;34m\u001b[0m\u001b[0m\n\u001b[1;32m    372\u001b[0m             \u001b[0mcmd\u001b[0m \u001b[0;34m=\u001b[0m \u001b[0mpopenargs\u001b[0m\u001b[0;34m[\u001b[0m\u001b[0;36m0\u001b[0m\u001b[0;34m]\u001b[0m\u001b[0;34m\u001b[0m\u001b[0;34m\u001b[0m\u001b[0m\n\u001b[0;32m--> 373\u001b[0;31m         \u001b[0;32mraise\u001b[0m \u001b[0mCalledProcessError\u001b[0m\u001b[0;34m(\u001b[0m\u001b[0mretcode\u001b[0m\u001b[0;34m,\u001b[0m \u001b[0mcmd\u001b[0m\u001b[0;34m)\u001b[0m\u001b[0;34m\u001b[0m\u001b[0;34m\u001b[0m\u001b[0m\n\u001b[0m\u001b[1;32m    374\u001b[0m     \u001b[0;32mreturn\u001b[0m \u001b[0;36m0\u001b[0m\u001b[0;34m\u001b[0m\u001b[0;34m\u001b[0m\u001b[0m\n\u001b[1;32m    375\u001b[0m \u001b[0;34m\u001b[0m\u001b[0m\n",
      "\u001b[0;31mCalledProcessError\u001b[0m: Command '['ls', 'missingfile']' returned non-zero exit status 2."
     ]
    }
   ],
   "source": [
    "subprocess.check_call(['ls','missingfile'])"
   ]
  },
  {
   "cell_type": "markdown",
   "metadata": {
    "slideshow": {
     "slide_type": "slide"
    }
   },
   "source": [
    "# subprocess.check_output"
   ]
  },
  {
   "cell_type": "markdown",
   "metadata": {},
   "source": [
    "<center><img src='../files/checkoutput.png'></center>"
   ]
  },
  {
   "cell_type": "markdown",
   "metadata": {
    "slideshow": {
     "slide_type": "slide"
    }
   },
   "source": [
    "# subprocess.check_output"
   ]
  },
  {
   "cell_type": "code",
   "execution_count": 23,
   "metadata": {},
   "outputs": [
    {
     "data": {
      "text/plain": [
       "b'dump\\nfile with spaces\\n'"
      ]
     },
     "execution_count": 23,
     "metadata": {},
     "output_type": "execute_result"
    }
   ],
   "source": [
    "subprocess.check_output(ARGS, stdin=None, stderr=None, shell=False)"
   ]
  },
  {
   "cell_type": "markdown",
   "metadata": {
    "slideshow": {
     "slide_type": "fragment"
    }
   },
   "source": [
    "Typically, you are calling a program because you want to parse its output.  `check_output` provides the easiest way to do this.  It's return value is what was written to `stdout`.  \n",
    "\n",
    "Nonzero return values result in a `CalledProcessError` exception (like `check_call`)."
   ]
  },
  {
   "cell_type": "code",
   "execution_count": 24,
   "metadata": {
    "slideshow": {
     "slide_type": "fragment"
    }
   },
   "outputs": [
    {
     "name": "stdout",
     "output_type": "stream",
     "text": [
      "b'file with spaces\\n'\n"
     ]
    }
   ],
   "source": [
    "files = subprocess.check_output('ls file*',shell=True)\n",
    "print(files)"
   ]
  },
  {
   "cell_type": "markdown",
   "metadata": {
    "slideshow": {
     "slide_type": "slide"
    }
   },
   "source": [
    "# subprocess.check_output"
   ]
  },
  {
   "cell_type": "markdown",
   "metadata": {},
   "source": [
    "Can redirect `stderr` to `STDOUT`"
   ]
  },
  {
   "cell_type": "code",
   "execution_count": 25,
   "metadata": {},
   "outputs": [
    {
     "data": {
      "text/plain": [
       "b\"ls: cannot access 'non_existent_file': No such file or directory\\n\""
      ]
     },
     "execution_count": 25,
     "metadata": {},
     "output_type": "execute_result"
    }
   ],
   "source": [
    "subprocess.check_output(\"ls non_existent_file; exit 0\", stderr=subprocess.STDOUT, shell=True)"
   ]
  },
  {
   "cell_type": "markdown",
   "metadata": {
    "slideshow": {
     "slide_type": "fragment"
    }
   },
   "source": [
    "Why `exit 0`?"
   ]
  },
  {
   "cell_type": "code",
   "execution_count": 18,
   "metadata": {
    "slideshow": {
     "slide_type": "slide"
    }
   },
   "outputs": [
    {
     "data": {
      "text/html": [
       "<div id=\"subck\" style=\"width: 500px\"></div>\n",
       "<script>\n",
       "$('head').append('<link rel=\"stylesheet\" href=\"http://bits.csb.pitt.edu/asker.js/themes/asker.default.css\" />');\n",
       "\n",
       "    var divid = '#subck';\n",
       "\tjQuery(divid).asker({\n",
       "\t    id: divid,\n",
       "\t    question: \"Which of the following does NOT produce an error?\",\n",
       "\t\tanswers: ['subprocess.check_output([\"ls *\"],shell=True)','subprocess.check_output(\"ls\",\"*\",shell=True)',\n",
       "                  'subprocess.check_output([\"ls\",\"*\"])','subprocess.check_output([\"ls *\"])'],\n",
       "        server: \"http://bits.csb.pitt.edu/asker.js/example/asker.cgi\",\n",
       "\t\tcharter: chartmaker})\n",
       "    \n",
       "$(\".jp-InputArea .o:contains(html)\").closest('.jp-InputArea').hide();\n",
       "\n",
       "\n",
       "</script>\n"
      ],
      "text/plain": [
       "<IPython.core.display.HTML object>"
      ]
     },
     "metadata": {},
     "output_type": "display_data"
    }
   ],
   "source": [
    "%%html\n",
    "<div id=\"subck\" style=\"width: 500px\"></div>\n",
    "<script>\n",
    "$('head').append('<link rel=\"stylesheet\" href=\"http://bits.csb.pitt.edu/asker.js/themes/asker.default.css\" />');\n",
    "\n",
    "    var divid = '#subck';\n",
    "\tjQuery(divid).asker({\n",
    "\t    id: divid,\n",
    "\t    question: \"Which of the following does NOT produce an error?\",\n",
    "\t\tanswers: ['subprocess.check_output([\"ls *\"],shell=True)','subprocess.check_output(\"ls\",\"*\",shell=True)',\n",
    "                  'subprocess.check_output([\"ls\",\"*\"])','subprocess.check_output([\"ls *\"])'],\n",
    "        server: \"http://bits.csb.pitt.edu/asker.js/example/asker.cgi\",\n",
    "\t\tcharter: chartmaker})\n",
    "    \n",
    "$(\".jp-InputArea .o:contains(html)\").closest('.jp-InputArea').hide();\n",
    "\n",
    "\n",
    "</script>"
   ]
  },
  {
   "cell_type": "code",
   "execution_count": 19,
   "metadata": {
    "slideshow": {
     "slide_type": "slide"
    }
   },
   "outputs": [
    {
     "data": {
      "text/plain": [
       "b'dump\\nfile with spaces\\nligs.sdf\\nligs.sdf.1\\nreceptor.pdb\\nreceptor.pdb.1\\nsmina\\n'"
      ]
     },
     "execution_count": 19,
     "metadata": {},
     "output_type": "execute_result"
    }
   ],
   "source": [
    "subprocess.check_output([\"ls *\"],shell=True)"
   ]
  },
  {
   "cell_type": "markdown",
   "metadata": {
    "slideshow": {
     "slide_type": "slide"
    }
   },
   "source": [
    "How can we communicate with the program we are launching?"
   ]
  },
  {
   "cell_type": "markdown",
   "metadata": {},
   "source": [
    "<center><img src='../files/checkoutput.png'></center>"
   ]
  },
  {
   "cell_type": "markdown",
   "metadata": {
    "slideshow": {
     "slide_type": "slide"
    }
   },
   "source": [
    "# Popen"
   ]
  },
  {
   "cell_type": "markdown",
   "metadata": {},
   "source": [
    "All the previous functions are just convenience wrappers around the Popen object."
   ]
  },
  {
   "cell_type": "code",
   "execution_count": 27,
   "metadata": {},
   "outputs": [
    {
     "name": "stdout",
     "output_type": "stream",
     "text": [
      "dump\n",
      "file with spaces\n"
     ]
    },
    {
     "data": {
      "text/plain": [
       "<Popen: returncode: None args: 'ls'>"
      ]
     },
     "execution_count": 27,
     "metadata": {},
     "output_type": "execute_result"
    }
   ],
   "source": [
    "subprocess.Popen(ARGS, stdin=None, stdout=None, stderr=None, shell=False, cwd=None, env=None)"
   ]
  },
  {
   "cell_type": "markdown",
   "metadata": {},
   "source": [
    "Popen has quite a few optional arguments. Shown are just the most common. \n",
    "\n",
    "`cwd` sets the working directory for the process (if `None` defaults to the current working directory of the python script).\n",
    "\n",
    "`env` is a dictionary that can be used to define a new set of environment variables.\n",
    "\n",
    "*`Popen` is a constructor and returns a `Popen` object.*  "
   ]
  },
  {
   "cell_type": "code",
   "execution_count": 28,
   "metadata": {},
   "outputs": [
    {
     "name": "stdout",
     "output_type": "stream",
     "text": [
      "\n"
     ]
    },
    {
     "data": {
      "text/plain": [
       "subprocess.Popen"
      ]
     },
     "execution_count": 28,
     "metadata": {},
     "output_type": "execute_result"
    }
   ],
   "source": [
    "proc = subprocess.Popen('echo')\n",
    "type(proc)"
   ]
  },
  {
   "cell_type": "markdown",
   "metadata": {
    "slideshow": {
     "slide_type": "slide"
    }
   },
   "source": [
    "# Popen"
   ]
  },
  {
   "cell_type": "markdown",
   "metadata": {},
   "source": [
    "The python script does **not** wait for the called process to finish before returning.\n",
    "\n",
    "We can finally use `PIPE`.\n",
    "\n",
    "<center><img src='../files/pipe.png'></center>"
   ]
  },
  {
   "cell_type": "markdown",
   "metadata": {
    "slideshow": {
     "slide_type": "slide"
    }
   },
   "source": [
    "# subprocess.PIPE"
   ]
  },
  {
   "cell_type": "markdown",
   "metadata": {},
   "source": [
    "If we set stdin/stdout/stderr to `subprocess.PIPE` then they are available to read/write to in the resulting Popen object."
   ]
  },
  {
   "cell_type": "code",
   "execution_count": 29,
   "metadata": {},
   "outputs": [],
   "source": [
    "proc = subprocess.Popen('ls',stdout=subprocess.PIPE)"
   ]
  },
  {
   "cell_type": "code",
   "execution_count": 30,
   "metadata": {},
   "outputs": [
    {
     "data": {
      "text/plain": [
       "_io.BufferedReader"
      ]
     },
     "execution_count": 30,
     "metadata": {},
     "output_type": "execute_result"
    }
   ],
   "source": [
    "type(proc.stdout)"
   ]
  },
  {
   "cell_type": "code",
   "execution_count": 31,
   "metadata": {},
   "outputs": [
    {
     "name": "stdout",
     "output_type": "stream",
     "text": [
      "b'dump\\n'\n"
     ]
    }
   ],
   "source": [
    "print(proc.stdout.readline())"
   ]
  },
  {
   "cell_type": "markdown",
   "metadata": {
    "slideshow": {
     "slide_type": "slide"
    }
   },
   "source": [
    "# subprocess.PIPE\n",
    "\n",
    "Pipes enable communication between your script and the called program.  \n",
    "\n",
    "If `stdout/stdin/stderr` is set to `subprocess.PIPE` then that input/output stream of the process is accessible through a file object in the returned object."
   ]
  },
  {
   "cell_type": "code",
   "execution_count": 32,
   "metadata": {},
   "outputs": [
    {
     "name": "stdout",
     "output_type": "stream",
     "text": [
      "b'Hello'\n"
     ]
    }
   ],
   "source": [
    "proc = subprocess.Popen('cat',stdin=subprocess.PIPE,stdout=subprocess.PIPE)\n",
    "proc.stdin.write(b\"Hello\")\n",
    "proc.stdin.close()\n",
    "print(proc.stdout.read())"
   ]
  },
  {
   "cell_type": "markdown",
   "metadata": {
    "slideshow": {
     "slide_type": "slide"
    }
   },
   "source": [
    "python3 strings are unicode, but most programs need byte strings"
   ]
  },
  {
   "cell_type": "code",
   "execution_count": 33,
   "metadata": {},
   "outputs": [
    {
     "ename": "TypeError",
     "evalue": "a bytes-like object is required, not 'str'",
     "output_type": "error",
     "traceback": [
      "\u001b[0;31m---------------------------------------------------------------------------\u001b[0m",
      "\u001b[0;31mTypeError\u001b[0m                                 Traceback (most recent call last)",
      "\u001b[0;32m/tmp/ipykernel_9256/2142223569.py\u001b[0m in \u001b[0;36m<module>\u001b[0;34m\u001b[0m\n\u001b[1;32m      1\u001b[0m \u001b[0mproc\u001b[0m \u001b[0;34m=\u001b[0m \u001b[0msubprocess\u001b[0m\u001b[0;34m.\u001b[0m\u001b[0mPopen\u001b[0m\u001b[0;34m(\u001b[0m\u001b[0;34m'cat'\u001b[0m\u001b[0;34m,\u001b[0m\u001b[0mstdin\u001b[0m\u001b[0;34m=\u001b[0m\u001b[0msubprocess\u001b[0m\u001b[0;34m.\u001b[0m\u001b[0mPIPE\u001b[0m\u001b[0;34m,\u001b[0m\u001b[0mstdout\u001b[0m\u001b[0;34m=\u001b[0m\u001b[0msubprocess\u001b[0m\u001b[0;34m.\u001b[0m\u001b[0mPIPE\u001b[0m\u001b[0;34m)\u001b[0m\u001b[0;34m\u001b[0m\u001b[0;34m\u001b[0m\u001b[0m\n\u001b[0;32m----> 2\u001b[0;31m \u001b[0mproc\u001b[0m\u001b[0;34m.\u001b[0m\u001b[0mstdin\u001b[0m\u001b[0;34m.\u001b[0m\u001b[0mwrite\u001b[0m\u001b[0;34m(\u001b[0m\u001b[0;34m\"Hello\"\u001b[0m\u001b[0;34m)\u001b[0m\u001b[0;34m\u001b[0m\u001b[0;34m\u001b[0m\u001b[0m\n\u001b[0m\u001b[1;32m      3\u001b[0m \u001b[0mproc\u001b[0m\u001b[0;34m.\u001b[0m\u001b[0mstdin\u001b[0m\u001b[0;34m.\u001b[0m\u001b[0mclose\u001b[0m\u001b[0;34m(\u001b[0m\u001b[0;34m)\u001b[0m\u001b[0;34m\u001b[0m\u001b[0;34m\u001b[0m\u001b[0m\n\u001b[1;32m      4\u001b[0m \u001b[0mprint\u001b[0m\u001b[0;34m(\u001b[0m\u001b[0mproc\u001b[0m\u001b[0;34m.\u001b[0m\u001b[0mstdout\u001b[0m\u001b[0;34m.\u001b[0m\u001b[0mread\u001b[0m\u001b[0;34m(\u001b[0m\u001b[0;34m)\u001b[0m\u001b[0;34m)\u001b[0m\u001b[0;34m\u001b[0m\u001b[0;34m\u001b[0m\u001b[0m\n",
      "\u001b[0;31mTypeError\u001b[0m: a bytes-like object is required, not 'str'"
     ]
    }
   ],
   "source": [
    "proc = subprocess.Popen('cat',stdin=subprocess.PIPE,stdout=subprocess.PIPE)\n",
    "proc.stdin.write(\"Hello\")\n",
    "proc.stdin.close()\n",
    "print(proc.stdout.read())"
   ]
  },
  {
   "cell_type": "markdown",
   "metadata": {
    "slideshow": {
     "slide_type": "slide"
    }
   },
   "source": [
    "# Unicode (aside)\n",
    "\n",
    "Bytes strings (which were the default kinds of string in python2) store each character using a single byte (ASCII, like in the Martian).\n",
    "\n",
    "Unicode uses 1 to 6 bytes per a character.\n",
    "\n",
    "This allows supports for other languages and the all important emoji."
   ]
  },
  {
   "cell_type": "code",
   "execution_count": 34,
   "metadata": {},
   "outputs": [
    {
     "name": "stdout",
     "output_type": "stream",
     "text": [
      "💩\n"
     ]
    }
   ],
   "source": [
    "print('\\U0001F4A9')"
   ]
  },
  {
   "cell_type": "markdown",
   "metadata": {
    "slideshow": {
     "slide_type": "slide"
    }
   },
   "source": [
    "Converting bytes to string"
   ]
  },
  {
   "cell_type": "code",
   "execution_count": 35,
   "metadata": {},
   "outputs": [
    {
     "data": {
      "text/plain": [
       "'a byte str'"
      ]
     },
     "execution_count": 35,
     "metadata": {},
     "output_type": "execute_result"
    }
   ],
   "source": [
    "b'a byte str'.decode()"
   ]
  },
  {
   "cell_type": "code",
   "execution_count": 36,
   "metadata": {},
   "outputs": [
    {
     "data": {
      "text/plain": [
       "b'a unicode string'"
      ]
     },
     "execution_count": 36,
     "metadata": {},
     "output_type": "execute_result"
    }
   ],
   "source": [
    "'a unicode string'.encode()"
   ]
  },
  {
   "cell_type": "code",
   "execution_count": 20,
   "metadata": {
    "slideshow": {
     "slide_type": "slide"
    }
   },
   "outputs": [
    {
     "data": {
      "text/html": [
       "<div id=\"sublock\" style=\"width: 500px\"></div>\n",
       "<script>\n",
       "$('head').append('<link rel=\"stylesheet\" href=\"http://bits.csb.pitt.edu/asker.js/themes/asker.default.css\" />');\n",
       "\n",
       "    var divid = '#sublock';\n",
       "\tjQuery(divid).asker({\n",
       "\t    id: divid,\n",
       "\t    question: \"What would happen if in the previous code we omitted the close?\",\n",
       "\t\tanswers: ['A','B','C','D'],\n",
       "        extra: ['Nothing would change','It would not print anything','It would print Hello after a pause','It would hang'],\n",
       "        server: \"http://bits.csb.pitt.edu/asker.js/example/asker.cgi\",\n",
       "\t\tcharter: chartmaker})\n",
       "    \n",
       "$(\".jp-InputArea .o:contains(html)\").closest('.jp-InputArea').hide();\n",
       "\n",
       "\n",
       "</script>\n"
      ],
      "text/plain": [
       "<IPython.core.display.HTML object>"
      ]
     },
     "metadata": {},
     "output_type": "display_data"
    }
   ],
   "source": [
    "%%html\n",
    "<div id=\"sublock\" style=\"width: 500px\"></div>\n",
    "<script>\n",
    "$('head').append('<link rel=\"stylesheet\" href=\"http://bits.csb.pitt.edu/asker.js/themes/asker.default.css\" />');\n",
    "\n",
    "    var divid = '#sublock';\n",
    "\tjQuery(divid).asker({\n",
    "\t    id: divid,\n",
    "\t    question: \"What would happen if in the previous code we omitted the close?\",\n",
    "\t\tanswers: ['A','B','C','D'],\n",
    "        extra: ['Nothing would change','It would not print anything','It would print Hello after a pause','It would hang'],\n",
    "        server: \"http://bits.csb.pitt.edu/asker.js/example/asker.cgi\",\n",
    "\t\tcharter: chartmaker})\n",
    "    \n",
    "$(\".jp-InputArea .o:contains(html)\").closest('.jp-InputArea').hide();\n",
    "\n",
    "\n",
    "</script>"
   ]
  },
  {
   "cell_type": "markdown",
   "metadata": {
    "slideshow": {
     "slide_type": "slide"
    }
   },
   "source": [
    "# Warning!"
   ]
  },
  {
   "cell_type": "markdown",
   "metadata": {
    "slideshow": {
     "slide_type": "-"
    }
   },
   "source": [
    "*Managing simultaneous input and output is tricky and can easily lead to deadlocks*.  \n",
    "\n",
    "For example, your script may be blocked waiting for output from the process which is blocked waiting for input.\n",
    "\n",
    "<img src=\"http://i.stack.imgur.com/ezUGt.jpg\">\n",
    "\n"
   ]
  },
  {
   "cell_type": "markdown",
   "metadata": {
    "slideshow": {
     "slide_type": "slide"
    }
   },
   "source": [
    "# `Popen.communicate(input=None)`"
   ]
  },
  {
   "cell_type": "markdown",
   "metadata": {},
   "source": [
    "Interact with process: Send data to stdin. Read data from stdout and stderr, until end-of-file is reached. Wait for process to terminate.\n",
    "\n",
    "`input` is a string of data to be provided to stdin (which must be set to `PIPE`).  \n",
    "\n",
    "Likewise, to receive stdout/stderr, they must be set to `PIPE`.\n",
    "\n",
    "This *will not deadlock*. \n",
    "\n",
    "99% of the time if you have to both provide input and read output of a subprocess, communicate will do what you need.\n"
   ]
  },
  {
   "cell_type": "code",
   "execution_count": 38,
   "metadata": {},
   "outputs": [],
   "source": [
    "proc = subprocess.Popen(\"awk '{print $1}'\",stdin=subprocess.PIPE,stdout=subprocess.PIPE,stderr=subprocess.PIPE,shell=True)\n",
    "(out, err) = proc.communicate(b\"x y z\\n1 2 3\\na b c\\n\") #returns tuple of output and error"
   ]
  },
  {
   "cell_type": "code",
   "execution_count": 39,
   "metadata": {},
   "outputs": [
    {
     "name": "stdout",
     "output_type": "stream",
     "text": [
      "x\n",
      "1\n",
      "a\n",
      "\n"
     ]
    }
   ],
   "source": [
    "print(out.decode())  # decode converts a bytes string to a regular unicode string"
   ]
  },
  {
   "cell_type": "markdown",
   "metadata": {
    "slideshow": {
     "slide_type": "slide"
    }
   },
   "source": [
    "# Interacting with Popen"
   ]
  },
  {
   "cell_type": "markdown",
   "metadata": {},
   "source": [
    "* `Popen.poll()` - check to see if process has terminated\n",
    "* `Popen.wait()` - wait for process to terminate **Do not use PIPE**\n",
    "* `Popen.terminate()` - terminate the process (ask nicely)\n",
    "* `Popen.kill()` - kill the process with extreme prejudice\n",
    "\n",
    "Note that if your are generating a large amount of data, `communicate`, which buffers all the data in memory, may not be an option (instead just read from `Popen.stdout`).  \n",
    "\n",
    "If you need to `PIPE` both `stdin` and `stdout` and can't use `communicate`, be *very* careful about controlling how data is communicated."
   ]
  },
  {
   "cell_type": "markdown",
   "metadata": {
    "slideshow": {
     "slide_type": "slide"
    }
   },
   "source": [
    "# Review\n",
    "\n",
    "* Just want to run a command?\n",
    "  * `subprocess.call`\n",
    "* Want the output of the command?\n",
    "  * `subprocess.check_output`\n",
    "* Don't want to wait for command to finish?  \n",
    "  * `subprocess.Popen`\n",
    "* Need to provide data through stdin?\n",
    "  * `subprocess.Popen`, `stdin=subprocess.PIPE`, `communicate`"
   ]
  },
  {
   "cell_type": "markdown",
   "metadata": {
    "slideshow": {
     "slide_type": "slide"
    }
   },
   "source": [
    "# Exercise"
   ]
  },
  {
   "cell_type": "markdown",
   "metadata": {},
   "source": [
    "We want to predict the binding affinity of a small molecule to a protein using the program `smina`. "
   ]
  },
  {
   "cell_type": "code",
   "execution_count": 48,
   "metadata": {},
   "outputs": [
    {
     "name": "stdout",
     "output_type": "stream",
     "text": [
      "--2022-11-16 13:48:38--  https://asinansaglam.github.io/python_bio_2022/files/rec.pdb\n",
      "Resolving asinansaglam.github.io (asinansaglam.github.io)... 185.199.109.153, 185.199.111.153, 185.199.108.153, ...\n",
      "Connecting to asinansaglam.github.io (asinansaglam.github.io)|185.199.109.153|:443... connected.\n",
      "HTTP request sent, awaiting response... 404 Not Found\n",
      "2022-11-16 13:48:38 ERROR 404: Not Found.\n",
      "\n",
      "--2022-11-16 13:48:38--  https://asinansaglam.github.io/python_bio_2022/files/lig.pdb\n",
      "Resolving asinansaglam.github.io (asinansaglam.github.io)... 185.199.109.153, 185.199.111.153, 185.199.108.153, ...\n",
      "Connecting to asinansaglam.github.io (asinansaglam.github.io)|185.199.109.153|:443... connected.\n",
      "HTTP request sent, awaiting response... 404 Not Found\n",
      "2022-11-16 13:48:38 ERROR 404: Not Found.\n",
      "\n",
      "--2022-11-16 13:48:38--  https://asinansaglam.github.io/python_bio_2022/files/receptor.pdb\n",
      "Resolving asinansaglam.github.io (asinansaglam.github.io)... 185.199.109.153, 185.199.111.153, 185.199.108.153, ...\n",
      "Connecting to asinansaglam.github.io (asinansaglam.github.io)|185.199.109.153|:443... connected.\n",
      "HTTP request sent, awaiting response... 200 OK\n",
      "Length: 143208 (140K) [application/vnd.palm]\n",
      "Saving to: ‘receptor.pdb.1’\n",
      "\n",
      "receptor.pdb.1      100%[===================>] 139.85K  --.-KB/s    in 0.05s   \n",
      "\n",
      "2022-11-16 13:48:39 (2.61 MB/s) - ‘receptor.pdb.1’ saved [143208/143208]\n",
      "\n",
      "--2022-11-16 13:48:39--  https://asinansaglam.github.io/python_bio_2022/files/ligs.sdf\n",
      "Resolving asinansaglam.github.io (asinansaglam.github.io)... 185.199.109.153, 185.199.111.153, 185.199.108.153, ...\n",
      "Connecting to asinansaglam.github.io (asinansaglam.github.io)|185.199.109.153|:443... connected.\n",
      "HTTP request sent, awaiting response... 200 OK\n",
      "Length: 65619 (64K) [application/octet-stream]\n",
      "Saving to: ‘ligs.sdf.1’\n",
      "\n",
      "ligs.sdf.1          100%[===================>]  64.08K  --.-KB/s    in 0.02s   \n",
      "\n",
      "2022-11-16 13:48:39 (3.91 MB/s) - ‘ligs.sdf.1’ saved [65619/65619]\n",
      "\n",
      "--2022-11-16 13:48:39--  https://sourceforge.net/projects/smina/files/smina.static/download\n",
      "Resolving sourceforge.net (sourceforge.net)... 104.18.10.128, 104.18.11.128, 2606:4700::6812:a80, ...\n",
      "Connecting to sourceforge.net (sourceforge.net)|104.18.10.128|:443... connected.\n",
      "HTTP request sent, awaiting response... 302 Found\n",
      "Location: https://downloads.sourceforge.net/project/smina/smina.static?ts=gAAAAABjdTCHNXSW3WcCSoVhdsyazoNqg6gJ9sjkOjM57x-YJjgUYUI-QFd3ZRv32ihx1LemPa-FVzFF2M3l1N85LIfwhq7LOQ%3D%3D&use_mirror=cytranet&r= [following]\n",
      "--2022-11-16 13:48:39--  https://downloads.sourceforge.net/project/smina/smina.static?ts=gAAAAABjdTCHNXSW3WcCSoVhdsyazoNqg6gJ9sjkOjM57x-YJjgUYUI-QFd3ZRv32ihx1LemPa-FVzFF2M3l1N85LIfwhq7LOQ%3D%3D&use_mirror=cytranet&r=\n",
      "Resolving downloads.sourceforge.net (downloads.sourceforge.net)... 204.68.111.105\n",
      "Connecting to downloads.sourceforge.net (downloads.sourceforge.net)|204.68.111.105|:443... connected.\n",
      "HTTP request sent, awaiting response... 302 Found\n",
      "Location: https://cytranet.dl.sourceforge.net/project/smina/smina.static [following]\n",
      "--2022-11-16 13:48:40--  https://cytranet.dl.sourceforge.net/project/smina/smina.static\n",
      "Resolving cytranet.dl.sourceforge.net (cytranet.dl.sourceforge.net)... 162.251.237.20\n",
      "Connecting to cytranet.dl.sourceforge.net (cytranet.dl.sourceforge.net)|162.251.237.20|:443... connected.\n",
      "HTTP request sent, awaiting response... 200 OK\n",
      "Length: 9853920 (9.4M) [application/octet-stream]\n",
      "Saving to: ‘download’\n",
      "\n",
      "download            100%[===================>]   9.40M  5.47MB/s    in 1.7s    \n",
      "\n",
      "2022-11-16 13:48:42 (5.47 MB/s) - ‘download’ saved [9853920/9853920]\n",
      "\n"
     ]
    }
   ],
   "source": [
    "!wget https://asinansaglam.github.io/python_bio_2022/files/rec.pdb\n",
    "!wget https://asinansaglam.github.io/python_bio_2022/files/lig.pdb\n",
    "!wget https://asinansaglam.github.io/python_bio_2022/files/receptor.pdb\n",
    "!wget https://asinansaglam.github.io/python_bio_2022/files/ligs.sdf\n",
    "!wget https://sourceforge.net/projects/smina/files/smina.static/download"
   ]
  },
  {
   "cell_type": "code",
   "execution_count": 49,
   "metadata": {},
   "outputs": [],
   "source": [
    "!mv download smina\n",
    "!chmod u+x smina"
   ]
  },
  {
   "cell_type": "markdown",
   "metadata": {
    "slideshow": {
     "slide_type": "slide"
    }
   },
   "source": [
    "# Project\n",
    "\n",
    "1. Run the command `smina -r rec.pdb -l lig.pdb --minimize` on these files.\n",
    "Parse the affinity and RMSD and print them on one line.\n",
    "2. Run the command `smina -r receptor.pdb -l ligs.sdf --minimize`.  Parse the affinities and RMSDS.\n",
    "  1. Plot histograms of both\n",
    "  2. Plot a scatter plot "
   ]
  },
  {
   "cell_type": "code",
   "execution_count": 21,
   "metadata": {
    "slideshow": {
     "slide_type": "slide"
    }
   },
   "outputs": [
    {
     "name": "stdout",
     "output_type": "stream",
     "text": [
      "   _______  _______ _________ _        _______ \n",
      "  (  ____ \\(       )\\__   __/( (    /|(  ___  )\n",
      "  | (    \\/| () () |   ) (   |  \\  ( || (   ) |\n",
      "  | (_____ | || || |   | |   |   \\ | || (___) |\n",
      "  (_____  )| |(_)| |   | |   | (\\ \\) ||  ___  |\n",
      "        ) || |   | |   | |   | | \\   || (   ) |\n",
      "  /\\____) || )   ( |___) (___| )  \\  || )   ( |\n",
      "  \\_______)|/     \\|\\_______/|/    )_)|/     \\|\n",
      "\n",
      "\n",
      "smina is based off AutoDock Vina. Please cite appropriately.\n",
      "\n",
      "Weights      Terms\n",
      "-0.035579    gauss(o=0,_w=0.5,_c=8)\n",
      "-0.005156    gauss(o=3,_w=2,_c=8)\n",
      "0.840245     repulsion(o=0,_c=8)\n",
      "-0.035069    hydrophobic(g=0.5,_b=1.5,_c=8)\n",
      "-0.587439    non_dir_h_bond(g=-0.7,_b=0,_c=8)\n",
      "1.923        num_tors_div\n",
      "\n",
      "Affinity: -6.13684  -0.44100 (kcal/mol)\n",
      "RMSD: 0.04666\n",
      "Refine time 0.01145\n",
      "Affinity: -5.86570  -0.18850 (kcal/mol)\n",
      "RMSD: 0.16984\n",
      "Refine time 0.00334\n",
      "Affinity: -6.05768  -1.30419 (kcal/mol)\n",
      "RMSD: 0.07613\n",
      "Refine time 0.00347\n",
      "Affinity: -6.59074  -0.53131 (kcal/mol)\n",
      "RMSD: 0.22924\n",
      "Refine time 0.00641\n",
      "Affinity: -6.50168  0.08280 (kcal/mol)\n",
      "RMSD: 0.04795\n",
      "Refine time 0.00282\n",
      "Affinity: -5.88335  -0.73565 (kcal/mol)\n",
      "RMSD: 0.07531\n",
      "Refine time 0.00204\n",
      "Affinity: -6.94803  -0.27693 (kcal/mol)\n",
      "RMSD: 0.08882\n",
      "Refine time 0.00816\n",
      "Affinity: -6.11432  -0.32757 (kcal/mol)\n",
      "RMSD: 0.06710\n",
      "Refine time 0.00543\n",
      "Affinity: -5.85392  -0.32171 (kcal/mol)\n",
      "RMSD: 0.98681\n",
      "Refine time 0.00488\n",
      "Affinity: -6.80549  -0.59248 (kcal/mol)\n",
      "RMSD: 0.17517\n",
      "Refine time 0.00431\n",
      "Affinity: -6.73040  -0.57962 (kcal/mol)\n",
      "RMSD: 0.03489\n",
      "Refine time 0.00198\n",
      "Affinity: -5.69268  -0.47264 (kcal/mol)\n",
      "RMSD: 0.14554\n",
      "Refine time 0.00318\n",
      "Affinity: -5.08187  -2.76936 (kcal/mol)\n",
      "RMSD: 0.10448\n",
      "Refine time 0.00329\n",
      "Affinity: -6.44079  -0.76932 (kcal/mol)\n",
      "RMSD: 0.04434\n",
      "Refine time 0.00256\n",
      "Affinity: -6.45828  -0.45417 (kcal/mol)\n",
      "RMSD: 0.09374\n",
      "Refine time 0.00619\n",
      "Affinity: -6.65080  -0.63172 (kcal/mol)\n",
      "RMSD: 0.08727\n",
      "Refine time 0.00643\n",
      "Affinity: -7.12596  -0.32647 (kcal/mol)\n",
      "RMSD: 0.14559\n",
      "Refine time 0.00377\n",
      "Affinity: -6.77129  -0.58484 (kcal/mol)\n",
      "RMSD: 0.21863\n",
      "Refine time 0.00683\n",
      "Affinity: -7.54122  -1.03283 (kcal/mol)\n",
      "RMSD: 0.06561\n",
      "Refine time 0.00443\n",
      "Affinity: -5.62031  -0.34329 (kcal/mol)\n",
      "RMSD: 0.22742\n",
      "Refine time 0.00298\n",
      "Affinity: -6.35736  -0.69922 (kcal/mol)\n",
      "RMSD: 0.12231\n",
      "Refine time 0.00419\n",
      "Affinity: -5.79781  -0.80878 (kcal/mol)\n",
      "RMSD: 0.14716\n",
      "Refine time 0.00204\n",
      "Affinity: -5.88094  -0.42970 (kcal/mol)\n",
      "RMSD: 0.11252\n",
      "Refine time 0.00260\n",
      "Affinity: -7.09409  0.36596 (kcal/mol)\n",
      "RMSD: 0.41997\n",
      "Refine time 0.00359\n",
      "Affinity: -6.13325  -0.22617 (kcal/mol)\n",
      "RMSD: 0.08001\n",
      "Refine time 0.00307\n",
      "Affinity: -7.47566  -1.20172 (kcal/mol)\n",
      "RMSD: 0.35906\n",
      "Refine time 0.00858\n",
      "Affinity: -6.47657  -0.41204 (kcal/mol)\n",
      "RMSD: 0.04145\n",
      "Refine time 0.00277\n",
      "Affinity: -6.58339  -0.62376 (kcal/mol)\n",
      "RMSD: 0.22803\n",
      "Refine time 0.00525\n",
      "Affinity: -6.69025  -0.11960 (kcal/mol)\n",
      "RMSD: 0.15410\n",
      "Refine time 0.00368\n",
      "Affinity: -5.73675  -0.69679 (kcal/mol)\n",
      "RMSD: 0.06322\n",
      "Refine time 0.00217\n",
      "Loop time 0.16327\n",
      "\n"
     ]
    }
   ],
   "source": [
    "import subprocess, re\n",
    "import matplotlib.pyplot as plt\n",
    "import numpy as np\n",
    "%matplotlib inline\n",
    "\n",
    "\n",
    "out = subprocess.check_output('./smina -r receptor.pdb -l ligs.sdf --minimize',shell=True).decode(\"utf-8\") \n",
    "affinities = np.array(re.findall(r'Affinity: (\\S+)',out),dtype=float)\n",
    "rmsds = np.array(re.findall(r'RMSD: (\\S+)',out),dtype=float)\n",
    "print(out)"
   ]
  },
  {
   "cell_type": "code",
   "execution_count": 51,
   "metadata": {
    "slideshow": {
     "slide_type": "slide"
    }
   },
   "outputs": [
    {
     "data": {
      "image/png": "[encoded data removed]",
      "text/plain": [
       "<Figure size 640x480 with 1 Axes>"
      ]
     },
     "metadata": {},
     "output_type": "display_data"
    }
   ],
   "source": [
    "plt.hist(affinities);"
   ]
  },
  {
   "cell_type": "code",
   "execution_count": 52,
   "metadata": {
    "slideshow": {
     "slide_type": "slide"
    }
   },
   "outputs": [
    {
     "data": {
      "image/png": "[encoded data removed]",
      "text/plain": [
       "<Figure size 640x480 with 1 Axes>"
      ]
     },
     "metadata": {},
     "output_type": "display_data"
    }
   ],
   "source": [
    "plt.hist(rmsds);"
   ]
  },
  {
   "cell_type": "code",
   "execution_count": 53,
   "metadata": {
    "slideshow": {
     "slide_type": "slide"
    }
   },
   "outputs": [
    {
     "data": {
      "image/png": "[encoded data removed]",
      "text/plain": [
       "<Figure size 640x480 with 1 Axes>"
      ]
     },
     "metadata": {},
     "output_type": "display_data"
    }
   ],
   "source": [
    "plt.plot(affinities,rmsds,'o')\n",
    "plt.xlabel(\"Affinity\")\n",
    "plt.ylabel(\"RMSD\");"
   ]
  },
  {
   "cell_type": "code",
   "execution_count": null,
   "metadata": {},
   "outputs": [],
   "source": []
  }
 ],
 "metadata": {
  "celltoolbar": "Slideshow",
  "kernelspec": {
   "display_name": "Python 3 (ipykernel)",
   "language": "python",
   "name": "python3"
  },
  "language_info": {
   "codemirror_mode": {
    "name": "ipython",
    "version": 3
   },
   "file_extension": ".py",
   "mimetype": "text/x-python",
   "name": "python",
   "nbconvert_exporter": "python",
   "pygments_lexer": "ipython3",
   "version": "3.9.13"
  },
  "widgets": {
   "state": {},
   "version": "1.1.1"
  }
 },
 "nbformat": 4,
 "nbformat_minor": 1
}
