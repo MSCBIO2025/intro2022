{
 "cells": [
  {
   "cell_type": "markdown",
   "metadata": {
    "slideshow": {
     "slide_type": "slide"
    }
   },
   "source": [
    "# The Linux Commandline (bash)\n",
    "## 8/30/2022\n",
    "\n",
    "<a href=\"?print-pdf\">print view</a>"
   ]
  },
  {
   "cell_type": "code",
   "execution_count": 1,
   "metadata": {
    "slideshow": {
     "slide_type": "skip"
    }
   },
   "outputs": [
    {
     "data": {
      "text/html": [
       "\n",
       "<script src=\"http://bits.mscbio2025.net/asker.js/lib/asker.js\"></script>\n",
       "\n",
       "<script>\n",
       "\n",
       "require(['https://cdnjs.cloudflare.com/ajax/libs/Chart.js/2.2.2/Chart.js'], function(Ch){\n",
       " Chart = Ch;\n",
       "});\n",
       "\n",
       "$('head').append('<link rel=\"stylesheet\" href=\"http://bits.csb.pitt.edu/asker.js/themes/asker.default.css\" />');\n",
       "\n",
       "\n",
       "//the callback is provided a canvas object and data \n",
       "var chartmaker = function(canvas, labels, data) {\n",
       "  var ctx = $(canvas).get(0).getContext(\"2d\");\n",
       "     var dataset = {labels: labels,                     \n",
       "    datasets:[{\n",
       "     data: data,\n",
       "     backgroundColor: \"rgba(150,64,150,0.5)\",\n",
       "         fillColor: \"rgba(150,64,150,0.8)\",    \n",
       "  }]};\n",
       "  var myBarChart = new Chart(ctx,{type:'bar',data:dataset,options:{legend: {display:false}}});\n",
       "\n",
       "};\n",
       "\n",
       "$(\".jp-InputArea .o:contains(html)\").closest('.jp-InputArea').hide();\n",
       "\n",
       "</script>\n"
      ],
      "text/plain": [
       "<IPython.core.display.HTML object>"
      ]
     },
     "metadata": {},
     "output_type": "display_data"
    }
   ],
   "source": [
    "%%html\n",
    "\n",
    "<script src=\"http://bits.mscbio2025.net/asker.js/lib/asker.js\"></script>\n",
    "\n",
    "<script>\n",
    "\n",
    "require(['https://cdnjs.cloudflare.com/ajax/libs/Chart.js/2.2.2/Chart.js'], function(Ch){\n",
    " Chart = Ch;\n",
    "});\n",
    "\n",
    "$('head').append('<link rel=\"stylesheet\" href=\"http://bits.csb.pitt.edu/asker.js/themes/asker.default.css\" />');\n",
    "\n",
    "\n",
    "//the callback is provided a canvas object and data \n",
    "var chartmaker = function(canvas, labels, data) {\n",
    "  var ctx = $(canvas).get(0).getContext(\"2d\");\n",
    "     var dataset = {labels: labels,                     \n",
    "    datasets:[{\n",
    "     data: data,\n",
    "     backgroundColor: \"rgba(150,64,150,0.5)\",\n",
    "         fillColor: \"rgba(150,64,150,0.8)\",    \n",
    "  }]};\n",
    "  var myBarChart = new Chart(ctx,{type:'bar',data:dataset,options:{legend: {display:false}}});\n",
    "\n",
    "};\n",
    "\n",
    "$(\".jp-InputArea .o:contains(html)\").closest('.jp-InputArea').hide();\n",
    "\n",
    "</script>"
   ]
  },
  {
   "cell_type": "markdown",
   "metadata": {
    "slideshow": {
     "slide_type": "slide"
    }
   },
   "source": [
    "# Linux\n",
    "\n",
    "*Happy Birthday Linux! Here's your cake:*\n",
    "<img src=\"https://images-cdn.9gag.com/photo/ay84g8M_700b.jpg\" width=\"500px\">"
   ]
  },
  {
   "cell_type": "markdown",
   "metadata": {
    "slideshow": {
     "slide_type": "slide"
    }
   },
   "source": [
    "# Installing\n",
    "\n",
    "For this class we suggest all of you to run the codes on your own machines. Getting to install the requisites is a part of the learning process.\n",
    "\n",
    "### Linux\n",
    "For linux users- Use the system package manager (**apt**) and the python package manager (**pip**) to install additional software. **sudo** runs a command with super user privileges.\n",
    "\n",
    "### macOS\n",
    "\n",
    "Macs also have a built-in commandline (Terminal.app).  Many of the packages we use are also available of OS X. MacPorts is most convenient for installing software (https://www.macports.org), but not all packages that we use are readily available.\n"
   ]
  },
  {
   "cell_type": "markdown",
   "metadata": {
    "slideshow": {
     "slide_type": "slide"
    }
   },
   "source": [
    "### Windows\n",
    "\n",
    "As of **Windows 10**, can [install Linux Subsystem](https://docs.microsoft.com/en-us/windows/wsl/install-win10).  In theory should work just like Ubuntu and is much less cumbersome to use. \n",
    "\n",
    "### Anaconda\n",
    "\n",
    "Distribution of python and R programming languages. Preffered for simplified package management and deployment. Users can install Anaconda from (https://www.anaconda.com/)\n",
    "\n",
    "### Microsoft Visual Studio\n",
    "\n",
    "We recommend everyone to use the Microsoft Visual Studio Integrated Development Environment for python coding in Linux, Windows and macOS. \n",
    "\n",
    "We will direct you to specific packages/softwares that needs to be installed for each class.\n"
   ]
  },
  {
   "cell_type": "code",
   "execution_count": 2,
   "metadata": {
    "slideshow": {
     "slide_type": "slide"
    }
   },
   "outputs": [
    {
     "data": {
      "text/html": [
       "<div id=\"prepared\" style=\"width: 500px\"></div>\n",
       "<script>\n",
       "\n",
       "\tjQuery('#prepared').asker({\n",
       "\t    id: \"cdquestion2\",\n",
       "\t    question: \"Do you have the bash shell or PuTTY installed?\",\n",
       "\t\tanswers: [\"No\",\"Yes, PuTTY\",\"Yes, Windows BASH\",\"Yes, MacOS\"],\n",
       "        server: \"http://bits.mscbio2025.net/asker.js/example/asker.cgi\",\n",
       "\t\tcharter: chartmaker})\n",
       "    \n",
       "$(\".jp-InputArea .o:contains(html)\").closest('.jp-InputArea').hide();\n",
       "\n",
       "</script>\n"
      ],
      "text/plain": [
       "<IPython.core.display.HTML object>"
      ]
     },
     "metadata": {},
     "output_type": "display_data"
    }
   ],
   "source": [
    "%%html\n",
    "<div id=\"prepared\" style=\"width: 500px\"></div>\n",
    "<script>\n",
    "\n",
    "\tjQuery('#prepared').asker({\n",
    "\t    id: \"cdquestion2\",\n",
    "\t    question: \"Do you have the bash shell or PuTTY installed?\",\n",
    "\t\tanswers: [\"No\",\"Yes, PuTTY\",\"Yes, Windows BASH\",\"Yes, MacOS\"],\n",
    "        server: \"http://bits.mscbio2025.net/asker.js/example/asker.cgi\",\n",
    "\t\tcharter: chartmaker})\n",
    "    \n",
    "$(\".jp-InputArea .o:contains(html)\").closest('.jp-InputArea').hide();\n",
    "\n",
    "</script>"
   ]
  },
  {
   "cell_type": "markdown",
   "metadata": {
    "slideshow": {
     "slide_type": "slide"
    }
   },
   "source": [
    "# Commands\n",
    "\n",
    "The first word you type is the program you want to run.  <tt>bash</tt> will search <tt>PATH</tt> environment variable for an appropriately named executable and run it with the specified arguments.\n",
    "\n",
    "* <tt>man<tt> - manual pages in linux\n",
    "* <tt>ssh</tt> *hostname*  - connect to *hostname*\n",
    "* <tt>passwd</tt> - change your password\n",
    "* <tt>ipython<tt> - start interactive python shell (more later)\n",
    "* <tt>nano</tt> - a user-friendly text editor. \n",
    "* <tt>vi</tt>, <tt>gedit</tt> -other editors.\n",
    "\n"
   ]
  },
  {
   "cell_type": "markdown",
   "metadata": {
    "slideshow": {
     "slide_type": "slide"
    }
   },
   "source": [
    "# ssh\n",
    "\n",
    "Secure shell.  On Windows can use [PuTTY](https://www.putty.org).; `ssh username@10.5.29.73`\n",
    "\n",
    "# scp\n",
    "Secure copy: `scp file.py python.mscbio2025.net:.`\n",
    "\n"
   ]
  },
  {
   "cell_type": "markdown",
   "metadata": {
    "slideshow": {
     "slide_type": "slide"
    }
   },
   "source": [
    "# A BASH cheatsheet\n",
    "\n",
    "http://mscbio2025.net/notes/bash_cheatsheet.pdf"
   ]
  },
  {
   "cell_type": "markdown",
   "metadata": {
    "slideshow": {
     "slide_type": "slide"
    }
   },
   "source": [
    "# ls - directory listing\n",
    "<pre>\n",
    "$ ls -l\n",
    "total 8\n",
    "-rw-rw-r--  1 anupam06 anupam06    5 Aug 29 13:05 hello.txt\n",
    "drwxrwxr-x  2 anupam06 anupam06 4.0K Aug 29 13:03 lecture\n",
    "$ pwd\n",
    "/home/anupam06/intro\n",
    "$ cd lecture/../..\n",
    "$ pwd\n",
    "</pre>"
   ]
  },
  {
   "cell_type": "code",
   "execution_count": 7,
   "metadata": {
    "slideshow": {
     "slide_type": "slide"
    }
   },
   "outputs": [
    {
     "data": {
      "text/html": [
       "<div id=\"question1\" style=\"width: 500px\"></div>\n",
       "<script>\n",
       "\n",
       "\tjQuery('#question1').asker({\n",
       "\t    id: \"cdquestion\",\n",
       "\t    question: \"What prints out?\",\n",
       "\t\tanswers: [\"~/\",\"/home/anupam06\", \"/home/anupam06/intro\",\"/home/anupam06/intro/lecture\",\"An Error\"],\n",
       "\t\textra: [\"\",\"\",\"\",\"\",\"\",\"\"],\n",
       "        server: \"http://bits.mscbio2025.net/asker.js/example/asker.cgi\",\n",
       "\t\tcharter: chartmaker})\n",
       "    \n",
       "$(\".jp-InputArea .o:contains(html)\").closest('.jp-InputArea').hide();\n",
       "\n",
       "</script>\n"
      ],
      "text/plain": [
       "<IPython.core.display.HTML object>"
      ]
     },
     "metadata": {},
     "output_type": "display_data"
    }
   ],
   "source": [
    "%%html\n",
    "<div id=\"question1\" style=\"width: 500px\"></div>\n",
    "<script>\n",
    "\n",
    "\tjQuery('#question1').asker({\n",
    "\t    id: \"cdquestion\",\n",
    "\t    question: \"What prints out?\",\n",
    "\t\tanswers: [\"~/\",\"/home/anupam06\", \"/home/anupam06/intro\",\"/home/anupam06/intro/lecture\",\"An Error\"],\n",
    "\t\textra: [\"\",\"\",\"\",\"\",\"\",\"\"],\n",
    "        server: \"http://bits.mscbio2025.net/asker.js/example/asker.cgi\",\n",
    "\t\tcharter: chartmaker})\n",
    "    \n",
    "$(\".jp-InputArea .o:contains(html)\").closest('.jp-InputArea').hide();\n",
    "\n",
    "</script>"
   ]
  },
  {
   "cell_type": "markdown",
   "metadata": {
    "slideshow": {
     "slide_type": "slide"
    }
   },
   "source": [
    "# ls - directory listing\n",
    "<pre>\n",
    "$ ls -lah\n",
    "total 16K\n",
    "drwxrwxr-x  3 anupam06 anupam06 4.0K Aug 29 13:05 .\n",
    "drwxr-xr-x 15 anupam06 anupam06 4.0K Aug 29 13:02 ..\n",
    "-rw-rw-r--  1 anupam06 anupam06    5 Aug 29 13:05 hello.txt\n",
    "drwxrwxr-x  2 anupam06 anupam06 4.0K Aug 29 13:03 lecture\n",
    "</pre>\n",
    "$ ls *.txt"
   ]
  },
  {
   "cell_type": "code",
   "execution_count": 4,
   "metadata": {
    "slideshow": {
     "slide_type": "slide"
    }
   },
   "outputs": [
    {
     "data": {
      "text/html": [
       "<div id=\"question2\" style=\"width: 500px\"></div>\n",
       "<script>\n",
       "\n",
       "\tjQuery('#question2').asker({\n",
       "\t    id: \"lsquestion\",\n",
       "\t    question: \"What prints out?\",\n",
       "\t\tanswers: [\"hello.txt\",\"*.txt\", \"hello.txt lecture\", \"An Error\"],\n",
       "\t\textra: [\"\",\"\",\"\",\"\",\"\",\"\"],\n",
       "        server: \"http://bits.mscbio2025.net/asker.js/example/asker.cgi\",\n",
       "\t\tcharter: chartmaker})\n",
       "    \n",
       "$(\".jp-InputArea .o:contains(html)\").closest('.jp-InputArea').hide();\n",
       "\n",
       "</script>\n"
      ],
      "text/plain": [
       "<IPython.core.display.HTML object>"
      ]
     },
     "metadata": {},
     "output_type": "display_data"
    }
   ],
   "source": [
    "%%html\n",
    "<div id=\"question2\" style=\"width: 500px\"></div>\n",
    "<script>\n",
    "\n",
    "\tjQuery('#question2').asker({\n",
    "\t    id: \"lsquestion\",\n",
    "\t    question: \"What prints out?\",\n",
    "\t\tanswers: [\"hello.txt\",\"*.txt\", \"hello.txt lecture\", \"An Error\"],\n",
    "\t\textra: [\"\",\"\",\"\",\"\",\"\",\"\"],\n",
    "        server: \"http://bits.mscbio2025.net/asker.js/example/asker.cgi\",\n",
    "\t\tcharter: chartmaker})\n",
    "    \n",
    "$(\".jp-InputArea .o:contains(html)\").closest('.jp-InputArea').hide();\n",
    "\n",
    "</script>"
   ]
  },
  {
   "cell_type": "markdown",
   "metadata": {
    "slideshow": {
     "slide_type": "slide"
    }
   },
   "source": [
    "# Spacing Out\n",
    "\n",
    "<tt>du</tt> - disk usage of files/directores\n",
    "```\n",
    "[dkoes@n052 tmp]$ du -s\n",
    "146564\t.\n",
    "[dkoes@n052 tmp]$ du -sh\n",
    "144M\t.\n",
    "[dkoes@n052 tmp]$ du -sh intro\n",
    "4.0K\tintro\n",
    "```\n",
    "\n",
    "<tt>df</tt> - usage of full disk\n",
    "<pre>\n",
    "[dkoes@n052 tmp]$ df -h .\n",
    "Filesystem      Size  Used Avail Use% Mounted on\n",
    "pulsar:/home     37T   28T  9.3T  75% /net/pulsar/home\n",
    "</pre>"
   ]
  },
  {
   "cell_type": "markdown",
   "metadata": {
    "slideshow": {
     "slide_type": "slide"
    }
   },
   "source": [
    "# Dude, where's my stuff?\n",
    "\n",
    "<tt>locate</tt>  -find a file system wide\n",
    "\n",
    "<tt>find</tt>  -search directory tree\n",
    "\n",
    "<tt>which</tt>  -print location of a command\n",
    "\n",
    "<tt>man</tt>  -print manual page of a command\n"
   ]
  },
  {
   "cell_type": "markdown",
   "metadata": {
    "slideshow": {
     "slide_type": "slide"
    }
   },
   "source": [
    "# Getting at your variables\n",
    "\n",
    "&nbsp;"
   ]
  },
  {
   "cell_type": "markdown",
   "metadata": {
    "slideshow": {
     "slide_type": "slide"
    }
   },
   "source": [
    "<tt>NAME=value</tt>  set NAME equal to value **No spaces around equals**\n",
    "\n",
    "```\n",
    "user@python$ X=3\n",
    "user@python$ echo $X\n",
    "3\n",
    "user@python$ X=hello\n",
    "user@python$ echo $X\n",
    "hello\n",
    "user@python$ echo X\n",
    "X\n",
    "```"
   ]
  },
  {
   "cell_type": "code",
   "execution_count": 5,
   "metadata": {
    "slideshow": {
     "slide_type": "slide"
    }
   },
   "outputs": [
    {
     "data": {
      "text/html": [
       "<div id=\"questionvarprint\" style=\"width: 500px; \"></div>\n",
       "<script>\n",
       "\n",
       "\tjQuery('#questionvarprint').asker({\n",
       "\t    id: \"varquestion\",\n",
       "\t    question: \"Which does <b>not</b> print the value of X?\",\n",
       "\t\tanswers: [\"echo $X\",\"echo ${X}\",\"echo '$X'\",\"echo \\\"$X\\\"\"],\n",
       "\t\textra: [\"\",\"\",\"\",\"\",\"\",\"\"],\n",
       "        server: \"http://bits.mscbio2025.net/asker.js/example/asker.cgi\",\n",
       "\t\tcharter: chartmaker})\n",
       "    \n",
       "$(\".jp-InputArea .o:contains(html)\").closest('.jp-InputArea').hide();\n",
       "\n",
       "</script>\n"
      ],
      "text/plain": [
       "<IPython.core.display.HTML object>"
      ]
     },
     "metadata": {},
     "output_type": "display_data"
    }
   ],
   "source": [
    "%%html\n",
    "<div id=\"questionvarprint\" style=\"width: 500px; \"></div>\n",
    "<script>\n",
    "\n",
    "\tjQuery('#questionvarprint').asker({\n",
    "\t    id: \"varquestion\",\n",
    "\t    question: \"Which does <b>not</b> print the value of X?\",\n",
    "\t\tanswers: [\"echo $X\",\"echo ${X}\",\"echo '$X'\",\"echo \\\"$X\\\"\"],\n",
    "\t\textra: [\"\",\"\",\"\",\"\",\"\",\"\"],\n",
    "        server: \"http://bits.mscbio2025.net/asker.js/example/asker.cgi\",\n",
    "\t\tcharter: chartmaker})\n",
    "    \n",
    "$(\".jp-InputArea .o:contains(html)\").closest('.jp-InputArea').hide();\n",
    "\n",
    "</script>"
   ]
  },
  {
   "cell_type": "markdown",
   "metadata": {
    "slideshow": {
     "slide_type": "slide"
    }
   },
   "source": [
    "# Capturing Output\n",
    "\n",
    "<tt>`cmd`</tt> evaluates to output of cmd\n",
    "<pre>\n",
    "$ FILES=`ls`\n",
    "$ echo $FILES \n",
    "hello.txt lecture\n",
    "</pre>"
   ]
  },
  {
   "cell_type": "markdown",
   "metadata": {
    "slideshow": {
     "slide_type": "slide"
    }
   },
   "source": [
    "# History\n",
    "\n",
    "<tt>history</tt> show commands previously issued\n",
    "\n",
    "<tt>up arrow</tt> cycle through previous commands\n",
    "\n",
    "<tt>Ctrl-R</tt> search through history for command **AWESOME**\n",
    "\n",
    "<tt>.bash_history</tt> file that stores the history\n"
   ]
  },
  {
   "cell_type": "markdown",
   "metadata": {
    "slideshow": {
     "slide_type": "slide"
    }
   },
   "source": [
    "# Shortcuts\n",
    "\n",
    "<tt>Tab</tt> autocomplete\n",
    "\n",
    "<tt>Ctrl-D</tt>  EOF/logout/exit\n",
    "\n",
    "<tt>Ctrl-A</tt>  go to beginning of line\n",
    "\n",
    "<tt>Ctrl-E</tt>  go to end of line\n",
    "\n",
    "<tt>alias new=cmd</tt>  \n",
    "\n",
    "<pre>\n",
    "make a nickname for a command\n",
    "$ alias l='ls -l'\n",
    "$ alias\n",
    "$ l\n",
    "</pre>"
   ]
  },
  {
   "cell_type": "markdown",
   "metadata": {
    "slideshow": {
     "slide_type": "slide"
    }
   },
   "source": [
    "\n",
    "## Loops\n",
    "\n",
    "<pre>\n",
    "<b>for</b> i <b>in</b> x y z\n",
    "<b>do</b>\n",
    " echo $i\n",
    "<b>done</b>\n",
    "\n",
    "for i in *.txt\n",
    "do\n",
    " echo $i\n",
    "done\n",
    "</pre>\n",
    "\n",
    "<a href=\"http://tldp.org/LDP/abs/html/loops.html\">Lots more... (TLDP)</a>"
   ]
  },
  {
   "cell_type": "markdown",
   "metadata": {
    "slideshow": {
     "slide_type": "slide"
    }
   },
   "source": [
    "# String Manipulation\n",
    "\n",
    "http://tldp.org/LDP/abs/html/string-manipulation.html\n",
    "\n",
    "<pre>$ i=\"ovolo\"\n",
    "$ echo ${i%o}\n",
    "</pre>"
   ]
  },
  {
   "cell_type": "code",
   "execution_count": 6,
   "metadata": {
    "slideshow": {
     "slide_type": "-"
    }
   },
   "outputs": [
    {
     "data": {
      "text/html": [
       "<div id=\"stringm\" style=\"width: 500px\"></div>\n",
       "<script>\n",
       "$('head').append('<link rel=\"stylesheet\" href=\"http://bits.csb.pitt.edu/asker.js/themes/asker.default.css\" />');\n",
       "\n",
       "\n",
       "\tjQuery('#stringm').asker({\n",
       "\t    id: \"stringm\",\n",
       "\t    question: \"What prints out?\",\n",
       "\t\tanswers: [\"ovolo\",\"volo\", \"ovol\",\"vl\",\"An Error\"],\n",
       "        server: \"http://bits.mscbio2025.net/asker.js/example/asker.cgi\",\n",
       "\t\tcharter: chartmaker})\n",
       "    \n",
       "$(\".jp-InputArea .o:contains(html)\").closest('.jp-InputArea').hide();\n",
       "\n",
       "\n",
       "</script>\n"
      ],
      "text/plain": [
       "<IPython.core.display.HTML object>"
      ]
     },
     "metadata": {},
     "output_type": "display_data"
    }
   ],
   "source": [
    "%%html\n",
    "<div id=\"stringm\" style=\"width: 500px\"></div>\n",
    "<script>\n",
    "$('head').append('<link rel=\"stylesheet\" href=\"http://bits.csb.pitt.edu/asker.js/themes/asker.default.css\" />');\n",
    "\n",
    "\n",
    "\tjQuery('#stringm').asker({\n",
    "\t    id: \"stringm\",\n",
    "\t    question: \"What prints out?\",\n",
    "\t\tanswers: [\"ovolo\",\"volo\", \"ovol\",\"vl\",\"An Error\"],\n",
    "        server: \"http://bits.mscbio2025.net/asker.js/example/asker.cgi\",\n",
    "\t\tcharter: chartmaker})\n",
    "    \n",
    "$(\".jp-InputArea .o:contains(html)\").closest('.jp-InputArea').hide();\n",
    "\n",
    "\n",
    "</script>"
   ]
  },
  {
   "cell_type": "markdown",
   "metadata": {
    "slideshow": {
     "slide_type": "slide"
    }
   },
   "source": [
    "# Batch processing files\n",
    "\n",
    "\n",
    "<pre>\n",
    "for file in *.png\n",
    "do\n",
    " convert $file ${file%.png}.tif\n",
    "done\n",
    "</pre>"
   ]
  }
 ],
 "metadata": {
  "celltoolbar": "Slideshow",
  "kernelspec": {
   "display_name": "Python 3 (ipykernel)",
   "language": "python",
   "name": "python3"
  },
  "language_info": {
   "codemirror_mode": {
    "name": "ipython",
    "version": 3
   },
   "file_extension": ".py",
   "mimetype": "text/x-python",
   "name": "python",
   "nbconvert_exporter": "python",
   "pygments_lexer": "ipython3",
   "version": "3.9.7"
  },
  "vscode": {
   "interpreter": {
    "hash": "64bee37de6b8c5f8ef99ba624a6c369c62048a36306104572da23a722d067c49"
   }
  }
 },
 "nbformat": 4,
 "nbformat_minor": 1
}
